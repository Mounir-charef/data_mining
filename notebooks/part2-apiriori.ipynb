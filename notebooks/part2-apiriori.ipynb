{
 "cells": [
  {
   "cell_type": "code",
   "execution_count": 1,
   "metadata": {
    "collapsed": true,
    "ExecuteTime": {
     "end_time": "2023-12-05T12:54:37.728208900Z",
     "start_time": "2023-12-05T12:54:37.722300900Z"
    }
   },
   "outputs": [],
   "source": [
    "import pandas as pd\n",
    "from collections import Counter\n",
    "from matplotlib import pyplot as plt\n",
    "import seaborn as sns\n",
    "from pathlib import Path\n",
    "import numpy as np\n",
    "from itertools import combinations\n",
    "from pprint import pprint\n",
    "import math\n",
    "from typing import Literal"
   ]
  },
  {
   "cell_type": "code",
   "execution_count": 2,
   "outputs": [],
   "source": [
    "data_dir = Path('../data')"
   ],
   "metadata": {
    "collapsed": false,
    "ExecuteTime": {
     "end_time": "2023-12-05T12:54:37.762573200Z",
     "start_time": "2023-12-05T12:54:37.729351300Z"
    }
   }
  },
  {
   "cell_type": "code",
   "execution_count": 3,
   "outputs": [
    {
     "data": {
      "text/plain": "     Temperature  Humidity  Rainfall        Soil     Crop Fertilizer\n0          24.87     82.84    295.61      Clayey     rice        DAP\n1          28.69     96.65    178.96    laterite  Coconut   Good NPK\n2          20.27     81.64    270.44  silty clay     rice        MOP\n3          25.07     95.02    192.90       sandy  Coconut       Urea\n4          25.04     95.90    174.80     coastal  Coconut       Urea\n..           ...       ...       ...         ...      ...        ...\n290        26.07     96.70    143.53       sandy  Coconut        MOP\n291        25.63     83.53    209.90  silty clay     rice        MOP\n292        24.52     83.54    230.45      Clayey     rice        MOP\n293        25.66     83.47    217.38      Clayey     rice        MOP\n294        23.83     84.81    298.56  silty clay     rice        MOP\n\n[295 rows x 6 columns]",
      "text/html": "<div>\n<style scoped>\n    .dataframe tbody tr th:only-of-type {\n        vertical-align: middle;\n    }\n\n    .dataframe tbody tr th {\n        vertical-align: top;\n    }\n\n    .dataframe thead th {\n        text-align: right;\n    }\n</style>\n<table border=\"1\" class=\"dataframe\">\n  <thead>\n    <tr style=\"text-align: right;\">\n      <th></th>\n      <th>Temperature</th>\n      <th>Humidity</th>\n      <th>Rainfall</th>\n      <th>Soil</th>\n      <th>Crop</th>\n      <th>Fertilizer</th>\n    </tr>\n  </thead>\n  <tbody>\n    <tr>\n      <th>0</th>\n      <td>24.87</td>\n      <td>82.84</td>\n      <td>295.61</td>\n      <td>Clayey</td>\n      <td>rice</td>\n      <td>DAP</td>\n    </tr>\n    <tr>\n      <th>1</th>\n      <td>28.69</td>\n      <td>96.65</td>\n      <td>178.96</td>\n      <td>laterite</td>\n      <td>Coconut</td>\n      <td>Good NPK</td>\n    </tr>\n    <tr>\n      <th>2</th>\n      <td>20.27</td>\n      <td>81.64</td>\n      <td>270.44</td>\n      <td>silty clay</td>\n      <td>rice</td>\n      <td>MOP</td>\n    </tr>\n    <tr>\n      <th>3</th>\n      <td>25.07</td>\n      <td>95.02</td>\n      <td>192.90</td>\n      <td>sandy</td>\n      <td>Coconut</td>\n      <td>Urea</td>\n    </tr>\n    <tr>\n      <th>4</th>\n      <td>25.04</td>\n      <td>95.90</td>\n      <td>174.80</td>\n      <td>coastal</td>\n      <td>Coconut</td>\n      <td>Urea</td>\n    </tr>\n    <tr>\n      <th>...</th>\n      <td>...</td>\n      <td>...</td>\n      <td>...</td>\n      <td>...</td>\n      <td>...</td>\n      <td>...</td>\n    </tr>\n    <tr>\n      <th>290</th>\n      <td>26.07</td>\n      <td>96.70</td>\n      <td>143.53</td>\n      <td>sandy</td>\n      <td>Coconut</td>\n      <td>MOP</td>\n    </tr>\n    <tr>\n      <th>291</th>\n      <td>25.63</td>\n      <td>83.53</td>\n      <td>209.90</td>\n      <td>silty clay</td>\n      <td>rice</td>\n      <td>MOP</td>\n    </tr>\n    <tr>\n      <th>292</th>\n      <td>24.52</td>\n      <td>83.54</td>\n      <td>230.45</td>\n      <td>Clayey</td>\n      <td>rice</td>\n      <td>MOP</td>\n    </tr>\n    <tr>\n      <th>293</th>\n      <td>25.66</td>\n      <td>83.47</td>\n      <td>217.38</td>\n      <td>Clayey</td>\n      <td>rice</td>\n      <td>MOP</td>\n    </tr>\n    <tr>\n      <th>294</th>\n      <td>23.83</td>\n      <td>84.81</td>\n      <td>298.56</td>\n      <td>silty clay</td>\n      <td>rice</td>\n      <td>MOP</td>\n    </tr>\n  </tbody>\n</table>\n<p>295 rows × 6 columns</p>\n</div>"
     },
     "execution_count": 3,
     "metadata": {},
     "output_type": "execute_result"
    }
   ],
   "source": [
    "data_path = data_dir / 'Dataset3.csv'\n",
    "df = pd.read_csv(data_path)\n",
    "df"
   ],
   "metadata": {
    "collapsed": false,
    "ExecuteTime": {
     "end_time": "2023-12-05T12:54:37.818575Z",
     "start_time": "2023-12-05T12:54:37.762573200Z"
    }
   }
  },
  {
   "cell_type": "markdown",
   "source": [
    "# discretize the data"
   ],
   "metadata": {
    "collapsed": false
   }
  },
  {
   "cell_type": "code",
   "execution_count": 4,
   "outputs": [
    {
     "data": {
      "text/plain": "     Temperature  Humidity  Rainfall        Soil     Crop Fertilizer\n0          24.87     82.84    295.61      Clayey     rice        DAP\n1          28.69     96.65    178.96    laterite  Coconut   Good NPK\n2          20.27     81.64    270.44  silty clay     rice        MOP\n3          25.07     95.02    192.90       sandy  Coconut       Urea\n4          25.04     95.90    174.80     coastal  Coconut       Urea\n..           ...       ...       ...         ...      ...        ...\n290        26.07     96.70    143.53       sandy  Coconut        MOP\n291        25.63     83.53    209.90  silty clay     rice        MOP\n292        24.52     83.54    230.45      Clayey     rice        MOP\n293        25.66     83.47    217.38      Clayey     rice        MOP\n294        23.83     84.81    298.56  silty clay     rice        MOP\n\n[295 rows x 6 columns]",
      "text/html": "<div>\n<style scoped>\n    .dataframe tbody tr th:only-of-type {\n        vertical-align: middle;\n    }\n\n    .dataframe tbody tr th {\n        vertical-align: top;\n    }\n\n    .dataframe thead th {\n        text-align: right;\n    }\n</style>\n<table border=\"1\" class=\"dataframe\">\n  <thead>\n    <tr style=\"text-align: right;\">\n      <th></th>\n      <th>Temperature</th>\n      <th>Humidity</th>\n      <th>Rainfall</th>\n      <th>Soil</th>\n      <th>Crop</th>\n      <th>Fertilizer</th>\n    </tr>\n  </thead>\n  <tbody>\n    <tr>\n      <th>0</th>\n      <td>24.87</td>\n      <td>82.84</td>\n      <td>295.61</td>\n      <td>Clayey</td>\n      <td>rice</td>\n      <td>DAP</td>\n    </tr>\n    <tr>\n      <th>1</th>\n      <td>28.69</td>\n      <td>96.65</td>\n      <td>178.96</td>\n      <td>laterite</td>\n      <td>Coconut</td>\n      <td>Good NPK</td>\n    </tr>\n    <tr>\n      <th>2</th>\n      <td>20.27</td>\n      <td>81.64</td>\n      <td>270.44</td>\n      <td>silty clay</td>\n      <td>rice</td>\n      <td>MOP</td>\n    </tr>\n    <tr>\n      <th>3</th>\n      <td>25.07</td>\n      <td>95.02</td>\n      <td>192.90</td>\n      <td>sandy</td>\n      <td>Coconut</td>\n      <td>Urea</td>\n    </tr>\n    <tr>\n      <th>4</th>\n      <td>25.04</td>\n      <td>95.90</td>\n      <td>174.80</td>\n      <td>coastal</td>\n      <td>Coconut</td>\n      <td>Urea</td>\n    </tr>\n    <tr>\n      <th>...</th>\n      <td>...</td>\n      <td>...</td>\n      <td>...</td>\n      <td>...</td>\n      <td>...</td>\n      <td>...</td>\n    </tr>\n    <tr>\n      <th>290</th>\n      <td>26.07</td>\n      <td>96.70</td>\n      <td>143.53</td>\n      <td>sandy</td>\n      <td>Coconut</td>\n      <td>MOP</td>\n    </tr>\n    <tr>\n      <th>291</th>\n      <td>25.63</td>\n      <td>83.53</td>\n      <td>209.90</td>\n      <td>silty clay</td>\n      <td>rice</td>\n      <td>MOP</td>\n    </tr>\n    <tr>\n      <th>292</th>\n      <td>24.52</td>\n      <td>83.54</td>\n      <td>230.45</td>\n      <td>Clayey</td>\n      <td>rice</td>\n      <td>MOP</td>\n    </tr>\n    <tr>\n      <th>293</th>\n      <td>25.66</td>\n      <td>83.47</td>\n      <td>217.38</td>\n      <td>Clayey</td>\n      <td>rice</td>\n      <td>MOP</td>\n    </tr>\n    <tr>\n      <th>294</th>\n      <td>23.83</td>\n      <td>84.81</td>\n      <td>298.56</td>\n      <td>silty clay</td>\n      <td>rice</td>\n      <td>MOP</td>\n    </tr>\n  </tbody>\n</table>\n<p>295 rows × 6 columns</p>\n</div>"
     },
     "execution_count": 4,
     "metadata": {},
     "output_type": "execute_result"
    }
   ],
   "source": [
    "df"
   ],
   "metadata": {
    "collapsed": false,
    "ExecuteTime": {
     "end_time": "2023-12-05T12:54:37.930605Z",
     "start_time": "2023-12-05T12:54:37.818575Z"
    }
   }
  },
  {
   "cell_type": "code",
   "execution_count": 5,
   "outputs": [
    {
     "data": {
      "text/plain": "       Temperature    Humidity    Rainfall\ncount   295.000000  295.000000  295.000000\nmean     25.522068   88.472271  205.330983\nstd       2.495289    6.550542   43.276280\nmin      20.050000   80.120000  131.090000\n25%      23.810000   82.275000  172.480000\n50%      25.760000   84.970000  202.940000\n75%      27.170000   94.800000  231.560000\nmax      29.870000   99.980000  298.560000",
      "text/html": "<div>\n<style scoped>\n    .dataframe tbody tr th:only-of-type {\n        vertical-align: middle;\n    }\n\n    .dataframe tbody tr th {\n        vertical-align: top;\n    }\n\n    .dataframe thead th {\n        text-align: right;\n    }\n</style>\n<table border=\"1\" class=\"dataframe\">\n  <thead>\n    <tr style=\"text-align: right;\">\n      <th></th>\n      <th>Temperature</th>\n      <th>Humidity</th>\n      <th>Rainfall</th>\n    </tr>\n  </thead>\n  <tbody>\n    <tr>\n      <th>count</th>\n      <td>295.000000</td>\n      <td>295.000000</td>\n      <td>295.000000</td>\n    </tr>\n    <tr>\n      <th>mean</th>\n      <td>25.522068</td>\n      <td>88.472271</td>\n      <td>205.330983</td>\n    </tr>\n    <tr>\n      <th>std</th>\n      <td>2.495289</td>\n      <td>6.550542</td>\n      <td>43.276280</td>\n    </tr>\n    <tr>\n      <th>min</th>\n      <td>20.050000</td>\n      <td>80.120000</td>\n      <td>131.090000</td>\n    </tr>\n    <tr>\n      <th>25%</th>\n      <td>23.810000</td>\n      <td>82.275000</td>\n      <td>172.480000</td>\n    </tr>\n    <tr>\n      <th>50%</th>\n      <td>25.760000</td>\n      <td>84.970000</td>\n      <td>202.940000</td>\n    </tr>\n    <tr>\n      <th>75%</th>\n      <td>27.170000</td>\n      <td>94.800000</td>\n      <td>231.560000</td>\n    </tr>\n    <tr>\n      <th>max</th>\n      <td>29.870000</td>\n      <td>99.980000</td>\n      <td>298.560000</td>\n    </tr>\n  </tbody>\n</table>\n</div>"
     },
     "execution_count": 5,
     "metadata": {},
     "output_type": "execute_result"
    }
   ],
   "source": [
    "df.describe()"
   ],
   "metadata": {
    "collapsed": false,
    "ExecuteTime": {
     "end_time": "2023-12-05T12:54:38.034570600Z",
     "start_time": "2023-12-05T12:54:37.834567600Z"
    }
   }
  },
  {
   "cell_type": "code",
   "execution_count": 6,
   "outputs": [
    {
     "name": "stdout",
     "output_type": "stream",
     "text": [
      "<class 'pandas.core.frame.DataFrame'>\n",
      "RangeIndex: 295 entries, 0 to 294\n",
      "Data columns (total 6 columns):\n",
      " #   Column       Non-Null Count  Dtype  \n",
      "---  ------       --------------  -----  \n",
      " 0   Temperature  295 non-null    float64\n",
      " 1   Humidity     295 non-null    float64\n",
      " 2   Rainfall     295 non-null    float64\n",
      " 3   Soil         295 non-null    object \n",
      " 4   Crop         295 non-null    object \n",
      " 5   Fertilizer   295 non-null    object \n",
      "dtypes: float64(3), object(3)\n",
      "memory usage: 14.0+ KB\n"
     ]
    }
   ],
   "source": [
    "df.info()"
   ],
   "metadata": {
    "collapsed": false,
    "ExecuteTime": {
     "end_time": "2023-12-05T12:54:38.034570600Z",
     "start_time": "2023-12-05T12:54:37.914666500Z"
    }
   }
  },
  {
   "cell_type": "code",
   "execution_count": 7,
   "outputs": [
    {
     "data": {
      "text/plain": "0"
     },
     "execution_count": 7,
     "metadata": {},
     "output_type": "execute_result"
    }
   ],
   "source": [
    "# check if there is duplicated rows or missing values\n",
    "df.duplicated().sum()"
   ],
   "metadata": {
    "collapsed": false,
    "ExecuteTime": {
     "end_time": "2023-12-05T12:54:38.034570600Z",
     "start_time": "2023-12-05T12:54:37.914666500Z"
    }
   }
  },
  {
   "cell_type": "code",
   "execution_count": 8,
   "outputs": [
    {
     "data": {
      "text/plain": "Temperature    0\nHumidity       0\nRainfall       0\nSoil           0\nCrop           0\nFertilizer     0\ndtype: int64"
     },
     "execution_count": 8,
     "metadata": {},
     "output_type": "execute_result"
    }
   ],
   "source": [
    "df.isna().sum()"
   ],
   "metadata": {
    "collapsed": false,
    "ExecuteTime": {
     "end_time": "2023-12-05T12:54:38.034570600Z",
     "start_time": "2023-12-05T12:54:37.914666500Z"
    }
   }
  },
  {
   "cell_type": "markdown",
   "source": [
    "we can see that there is no duplicated rows or missing values"
   ],
   "metadata": {
    "collapsed": false
   }
  },
  {
   "cell_type": "code",
   "execution_count": 9,
   "outputs": [],
   "source": [
    "discretize_column = 'Temperature'"
   ],
   "metadata": {
    "collapsed": false,
    "ExecuteTime": {
     "end_time": "2023-12-05T12:54:38.034570600Z",
     "start_time": "2023-12-05T12:54:37.922666300Z"
    }
   }
  },
  {
   "cell_type": "code",
   "execution_count": 10,
   "outputs": [],
   "source": [
    "def discretize_equal_width(input_df, column, *, n_bins=0):\n",
    "    input_df = input_df.copy()\n",
    "    sorted_data = input_df[column].sort_values()\n",
    "    if n_bins == 0:\n",
    "        n_bins =  int(1 + (10 / 3) * math.log10(len(sorted_data)))\n",
    "    ranges = np.linspace(sorted_data.min(), sorted_data.max(), n_bins + 1)\n",
    "    labels = [str(i) for i in range(1, n_bins + 1)]\n",
    "    current_bin = 0\n",
    "    class_column = []\n",
    "    for i, row_temp in enumerate(sorted_data):\n",
    "        if row_temp > ranges[current_bin + 1]:\n",
    "            current_bin += 1\n",
    "        class_column.append(labels[current_bin])\n",
    "    input_df[f'class_{column}'] = class_column\n",
    "    return input_df\n"
   ],
   "metadata": {
    "collapsed": false,
    "ExecuteTime": {
     "end_time": "2023-12-05T12:54:38.034570600Z",
     "start_time": "2023-12-05T12:54:37.946579400Z"
    }
   }
  },
  {
   "cell_type": "code",
   "execution_count": 11,
   "outputs": [],
   "source": [
    "df_width = discretize_equal_width(df, discretize_column)"
   ],
   "metadata": {
    "collapsed": false,
    "ExecuteTime": {
     "end_time": "2023-12-05T12:54:38.034570600Z",
     "start_time": "2023-12-05T12:54:37.954574Z"
    }
   }
  },
  {
   "cell_type": "code",
   "execution_count": 12,
   "outputs": [],
   "source": [
    "def plot_classes(input_df, column=f'class_{discretize_column}'):\n",
    "    sns.countplot(x=column, data=input_df)\n",
    "    plt.xlabel('classes')\n",
    "    plt.ylabel('Count')\n",
    "    plt.title('class distribution')\n",
    "    plt.show()"
   ],
   "metadata": {
    "collapsed": false,
    "ExecuteTime": {
     "end_time": "2023-12-05T12:54:38.034570600Z",
     "start_time": "2023-12-05T12:54:37.970595100Z"
    }
   }
  },
  {
   "cell_type": "code",
   "execution_count": 13,
   "outputs": [
    {
     "data": {
      "text/plain": "<Figure size 640x480 with 1 Axes>",
      "image/png": "[encoded data removed]"
     },
     "metadata": {},
     "output_type": "display_data"
    }
   ],
   "source": [
    "plot_classes(df_width)"
   ],
   "metadata": {
    "collapsed": false,
    "ExecuteTime": {
     "end_time": "2023-12-05T12:54:38.293762200Z",
     "start_time": "2023-12-05T12:54:37.986608200Z"
    }
   }
  },
  {
   "cell_type": "code",
   "execution_count": 14,
   "outputs": [],
   "source": [
    "def discretize_equal_freq(input_df, column, *, n_bins=0):\n",
    "    input_df = input_df.copy()\n",
    "\n",
    "    if n_bins == 0:\n",
    "        n_bins = int(1 + (10 / 3) * math.log10(len(input_df[column])))\n",
    "\n",
    "    sorted_values = sorted(input_df[column])\n",
    "\n",
    "    bin_edges = [sorted_values[i * len(sorted_values) // n_bins] for i in range(n_bins)]\n",
    "    bin_edges.append(sorted_values[-1])  # Include the maximum value\n",
    "    labels = [str(i) for i in range(1, n_bins + 1)]\n",
    "\n",
    "    discrete_column = []\n",
    "    current_bin = 0\n",
    "\n",
    "    for i, value in enumerate(sorted_values):\n",
    "        if value > bin_edges[current_bin + 1]:\n",
    "            current_bin += 1\n",
    "        discrete_column.append(labels[current_bin])\n",
    "\n",
    "    input_df[f'class_{column}'] = discrete_column\n",
    "\n",
    "    return input_df"
   ],
   "metadata": {
    "collapsed": false,
    "ExecuteTime": {
     "end_time": "2023-12-05T12:54:38.293762200Z",
     "start_time": "2023-12-05T12:54:38.261784200Z"
    }
   }
  },
  {
   "cell_type": "code",
   "execution_count": 15,
   "outputs": [],
   "source": [
    "df_freq = discretize_equal_freq(df, discretize_column)"
   ],
   "metadata": {
    "collapsed": false,
    "ExecuteTime": {
     "end_time": "2023-12-05T12:54:38.293762200Z",
     "start_time": "2023-12-05T12:54:38.285802200Z"
    }
   }
  },
  {
   "cell_type": "code",
   "execution_count": 16,
   "outputs": [
    {
     "data": {
      "text/plain": "<Figure size 640x480 with 1 Axes>",
      "image/png": "[encoded data removed]"
     },
     "metadata": {},
     "output_type": "display_data"
    }
   ],
   "source": [
    "plot_classes(df_freq)"
   ],
   "metadata": {
    "collapsed": false,
    "ExecuteTime": {
     "end_time": "2023-12-05T12:54:38.553376500Z",
     "start_time": "2023-12-05T12:54:38.285802200Z"
    }
   }
  },
  {
   "cell_type": "markdown",
   "source": [
    "# Apriori and association rules"
   ],
   "metadata": {
    "collapsed": false
   }
  },
  {
   "cell_type": "code",
   "execution_count": 17,
   "outputs": [
    {
     "data": {
      "text/plain": "                                                  Items\nSoil       Fertilizer Crop                             \nClayey     DAP        rice           {3, 2, 1, 6, 8, 5}\n           Good NPK   rice                          {6}\n           MOP        rice              {3, 2, 7, 4, 9}\n           Urea       rice           {3, 7, 1, 4, 6, 5}\nalluvial   DAP        Coconut                    {7, 1}\n           MOP        Coconut              {8, 9, 2, 7}\n           Urea       Coconut           {3, 2, 1, 4, 5}\nclay loam  DAP        rice                 {2, 7, 5, 1}\n           Good NPK   rice                    {3, 5, 4}\n           MOP        rice                    {9, 2, 7}\n           Urea       rice              {3, 2, 1, 4, 5}\ncoastal    DAP        Coconut           {3, 7, 4, 6, 8}\n           Good NPK   Coconut              {6, 2, 5, 4}\n           MOP        Coconut           {9, 7, 6, 8, 5}\n           Urea       Coconut        {3, 2, 1, 4, 6, 5}\nlaterite   DAP        Coconut              {2, 7, 1, 4}\n           Good NPK   Coconut                 {3, 5, 1}\n           MOP        Coconut                 {8, 9, 7}\n           Urea       Coconut           {3, 2, 1, 4, 5}\nsandy      DAP        Coconut           {3, 7, 6, 8, 5}\n           Good NPK   Coconut        {3, 2, 1, 4, 6, 5}\n           MOP        Coconut           {9, 7, 6, 8, 5}\n           Urea       Coconut        {3, 2, 1, 4, 6, 5}\nsilty clay DAP        rice     {3, 2, 7, 1, 4, 6, 8, 5}\n           Good NPK   rice                          {5}\n           MOP        rice                 {9, 7, 1, 4}\n           Urea       rice        {3, 2, 7, 1, 4, 6, 5}",
      "text/html": "<div>\n<style scoped>\n    .dataframe tbody tr th:only-of-type {\n        vertical-align: middle;\n    }\n\n    .dataframe tbody tr th {\n        vertical-align: top;\n    }\n\n    .dataframe thead th {\n        text-align: right;\n    }\n</style>\n<table border=\"1\" class=\"dataframe\">\n  <thead>\n    <tr style=\"text-align: right;\">\n      <th></th>\n      <th></th>\n      <th></th>\n      <th>Items</th>\n    </tr>\n    <tr>\n      <th>Soil</th>\n      <th>Fertilizer</th>\n      <th>Crop</th>\n      <th></th>\n    </tr>\n  </thead>\n  <tbody>\n    <tr>\n      <th rowspan=\"4\" valign=\"top\">Clayey</th>\n      <th>DAP</th>\n      <th>rice</th>\n      <td>{3, 2, 1, 6, 8, 5}</td>\n    </tr>\n    <tr>\n      <th>Good NPK</th>\n      <th>rice</th>\n      <td>{6}</td>\n    </tr>\n    <tr>\n      <th>MOP</th>\n      <th>rice</th>\n      <td>{3, 2, 7, 4, 9}</td>\n    </tr>\n    <tr>\n      <th>Urea</th>\n      <th>rice</th>\n      <td>{3, 7, 1, 4, 6, 5}</td>\n    </tr>\n    <tr>\n      <th rowspan=\"3\" valign=\"top\">alluvial</th>\n      <th>DAP</th>\n      <th>Coconut</th>\n      <td>{7, 1}</td>\n    </tr>\n    <tr>\n      <th>MOP</th>\n      <th>Coconut</th>\n      <td>{8, 9, 2, 7}</td>\n    </tr>\n    <tr>\n      <th>Urea</th>\n      <th>Coconut</th>\n      <td>{3, 2, 1, 4, 5}</td>\n    </tr>\n    <tr>\n      <th rowspan=\"4\" valign=\"top\">clay loam</th>\n      <th>DAP</th>\n      <th>rice</th>\n      <td>{2, 7, 5, 1}</td>\n    </tr>\n    <tr>\n      <th>Good NPK</th>\n      <th>rice</th>\n      <td>{3, 5, 4}</td>\n    </tr>\n    <tr>\n      <th>MOP</th>\n      <th>rice</th>\n      <td>{9, 2, 7}</td>\n    </tr>\n    <tr>\n      <th>Urea</th>\n      <th>rice</th>\n      <td>{3, 2, 1, 4, 5}</td>\n    </tr>\n    <tr>\n      <th rowspan=\"4\" valign=\"top\">coastal</th>\n      <th>DAP</th>\n      <th>Coconut</th>\n      <td>{3, 7, 4, 6, 8}</td>\n    </tr>\n    <tr>\n      <th>Good NPK</th>\n      <th>Coconut</th>\n      <td>{6, 2, 5, 4}</td>\n    </tr>\n    <tr>\n      <th>MOP</th>\n      <th>Coconut</th>\n      <td>{9, 7, 6, 8, 5}</td>\n    </tr>\n    <tr>\n      <th>Urea</th>\n      <th>Coconut</th>\n      <td>{3, 2, 1, 4, 6, 5}</td>\n    </tr>\n    <tr>\n      <th rowspan=\"4\" valign=\"top\">laterite</th>\n      <th>DAP</th>\n      <th>Coconut</th>\n      <td>{2, 7, 1, 4}</td>\n    </tr>\n    <tr>\n      <th>Good NPK</th>\n      <th>Coconut</th>\n      <td>{3, 5, 1}</td>\n    </tr>\n    <tr>\n      <th>MOP</th>\n      <th>Coconut</th>\n      <td>{8, 9, 7}</td>\n    </tr>\n    <tr>\n      <th>Urea</th>\n      <th>Coconut</th>\n      <td>{3, 2, 1, 4, 5}</td>\n    </tr>\n    <tr>\n      <th rowspan=\"4\" valign=\"top\">sandy</th>\n      <th>DAP</th>\n      <th>Coconut</th>\n      <td>{3, 7, 6, 8, 5}</td>\n    </tr>\n    <tr>\n      <th>Good NPK</th>\n      <th>Coconut</th>\n      <td>{3, 2, 1, 4, 6, 5}</td>\n    </tr>\n    <tr>\n      <th>MOP</th>\n      <th>Coconut</th>\n      <td>{9, 7, 6, 8, 5}</td>\n    </tr>\n    <tr>\n      <th>Urea</th>\n      <th>Coconut</th>\n      <td>{3, 2, 1, 4, 6, 5}</td>\n    </tr>\n    <tr>\n      <th rowspan=\"4\" valign=\"top\">silty clay</th>\n      <th>DAP</th>\n      <th>rice</th>\n      <td>{3, 2, 7, 1, 4, 6, 8, 5}</td>\n    </tr>\n    <tr>\n      <th>Good NPK</th>\n      <th>rice</th>\n      <td>{5}</td>\n    </tr>\n    <tr>\n      <th>MOP</th>\n      <th>rice</th>\n      <td>{9, 7, 1, 4}</td>\n    </tr>\n    <tr>\n      <th>Urea</th>\n      <th>rice</th>\n      <td>{3, 2, 7, 1, 4, 6, 5}</td>\n    </tr>\n  </tbody>\n</table>\n</div>"
     },
     "execution_count": 17,
     "metadata": {},
     "output_type": "execute_result"
    }
   ],
   "source": [
    "def get_grouped_df(input_df, columns=None):\n",
    "    if columns is None:\n",
    "        columns = ['Soil', 'Fertilizer', 'Crop']\n",
    "    return input_df.groupby(columns).agg({\n",
    "        f'class_{discretize_column}': set,\n",
    "        }).rename(columns={f'class_{discretize_column}': 'Items'})\n",
    "grouped_df = get_grouped_df(df_width)\n",
    "grouped_df.to_csv(data_dir / 'part3_grouped_df.csv')\n",
    "grouped_df"
   ],
   "metadata": {
    "collapsed": false,
    "ExecuteTime": {
     "end_time": "2023-12-05T12:54:38.649397500Z",
     "start_time": "2023-12-05T12:54:38.561383700Z"
    }
   }
  },
  {
   "cell_type": "code",
   "execution_count": 18,
   "outputs": [],
   "source": [
    "class Apriori:\n",
    "    Metric = Literal['confidence', 'cosine', 'lift', 'all_confidence', 'max_confidence', 'jaccard', 'kulczynski']\n",
    "    def __init__(self, min_support, min_confidence):\n",
    "        self.df = None\n",
    "        self.min_support = min_support\n",
    "        self.min_confidence = min_confidence\n",
    "        self.frequent_itemsets = []\n",
    "\n",
    "    def set_params(self, *, min_support, min_confidence):\n",
    "        self.min_support = min_support if min_support else self.min_support\n",
    "        self.min_confidence = min_confidence if min_confidence else self.min_confidence\n",
    "\n",
    "    def fit(self, input_df):\n",
    "        self.frequent_itemsets = []\n",
    "        self.df = input_df\n",
    "        self._get_frequent_itemsets()\n",
    "        self._get_rules()\n",
    "\n",
    "    def _get_frequent_itemsets(self):\n",
    "        self._get_frequent_1_itemsets()\n",
    "        k = 2\n",
    "        while True:\n",
    "            frequent_itemsets = self._get_frequent_k_itemsets(k)\n",
    "            if not frequent_itemsets:\n",
    "                break\n",
    "            self.frequent_itemsets.append(frequent_itemsets)\n",
    "            k += 1\n",
    "\n",
    "    def _get_frequent_1_itemsets(self):\n",
    "        self.item_counts = Counter()\n",
    "        for itemset in self.df['Items']:\n",
    "            self.item_counts.update(itemset)\n",
    "\n",
    "        n = len(self.df)\n",
    "        self.frequent_itemsets.append([\n",
    "            (frozenset([item]), support / n)\n",
    "            for item, support in self.item_counts.items()\n",
    "            if support / n >= self.min_support\n",
    "        ])\n",
    "\n",
    "    def _get_frequent_k_itemsets(self, k):\n",
    "        itemsets = self.frequent_itemsets[k - 2]\n",
    "        frequent_itemsets = []\n",
    "        for itemset1, support1 in itemsets:\n",
    "            for itemset2, support2 in itemsets:\n",
    "                if itemset1 == itemset2:\n",
    "                    continue\n",
    "                union = itemset1 | itemset2\n",
    "                if len(union) != k:\n",
    "                    continue\n",
    "                if union in (itemset for itemset, _ in frequent_itemsets):\n",
    "                    continue\n",
    "                support = self._get_support(union)\n",
    "                if support >= self.min_support:\n",
    "                    frequent_itemsets.append((union, support))\n",
    "        return frequent_itemsets\n",
    "\n",
    "    def _get_rules(self):\n",
    "        self.rules = []\n",
    "        for itemsets in self.frequent_itemsets:\n",
    "            for itemset, support in itemsets:\n",
    "                if len(itemset) < 2:\n",
    "                    continue\n",
    "                for antecedent in self._get_antecedents(itemset):\n",
    "                    antecedent_support = self._get_support(antecedent)\n",
    "                    if support / antecedent_support >= self.min_confidence:\n",
    "                        self.rules.append((antecedent, itemset - antecedent, support / antecedent_support))\n",
    "        return self.rules\n",
    "\n",
    "    @staticmethod\n",
    "    def _get_antecedents(itemset: set) -> list[tuple]:\n",
    "        antecedents = []\n",
    "        for i in range(1, len(itemset)):\n",
    "            current_antecedents = combinations(itemset, i)\n",
    "            current_antecedents = {frozenset(antecedent) for antecedent in current_antecedents}\n",
    "            antecedents.extend(current_antecedents)\n",
    "        return antecedents\n",
    "\n",
    "    def _get_support(self, itemset):\n",
    "        return sum(1 for itemset2 in self.df['Items'] if itemset.issubset(itemset2)) / len(self.df)\n",
    "\n",
    "    def _get_cosines(self):\n",
    "        self.cosines = []\n",
    "        for itemset1, consequent, confidence in self.rules:\n",
    "            cosine = self._get_support(itemset1 | consequent) / math.sqrt(self._get_support(itemset1) * self._get_support(consequent))\n",
    "            self.cosines.append((itemset1, consequent, cosine))\n",
    "        return self.cosines\n",
    "\n",
    "    def _get_lifts(self):\n",
    "        self.lifts = []\n",
    "        for itemset1, consequent, confidence in self.rules:\n",
    "            lift = confidence / self._get_support(consequent)\n",
    "            self.lifts.append((itemset1, consequent, lift))\n",
    "        return self.lifts\n",
    "\n",
    "\n",
    "    def _get_jaccard(self):\n",
    "        self.jaccard = []\n",
    "        for itemset1, consequent, confidence in self.rules:\n",
    "            jaccard = self._get_support(itemset1 | consequent) / (self._get_support(itemset1) + self._get_support(consequent) - self._get_support(itemset1 | consequent))\n",
    "            self.jaccard.append((itemset1, consequent, jaccard))\n",
    "        return self.jaccard\n",
    "\n",
    "    def _get_kulczynski(self):\n",
    "        self.kulczynski = []\n",
    "        for itemset1, consequent, confidence in self.rules:\n",
    "            join_support = self._get_support(itemset1 | consequent)\n",
    "            kulczynski = ((join_support / self._get_support(itemset1)) + (join_support / self._get_support(consequent))) / 2\n",
    "            self.kulczynski.append((itemset1, consequent, kulczynski))\n",
    "        return self.kulczynski\n",
    "\n",
    "    def _get_max_confidence(self):\n",
    "        self.max_confidence = []\n",
    "        for itemset1, consequent, confidence in self.rules:\n",
    "            join_support = self._get_support(itemset1 | consequent)\n",
    "            max_confidence = max(self._get_support(itemset1) / join_support, self._get_support(consequent) / join_support)\n",
    "            self.max_confidence.append((itemset1, consequent, max_confidence))\n",
    "        return self.max_confidence\n",
    "\n",
    "    def _get_all_confidence(self):\n",
    "        self.all_confidence = []\n",
    "        for itemset1, consequent, confidence in self.rules:\n",
    "            all_confidence = self._get_support(itemset1 | consequent) / max(self._get_support(itemset1), self._get_support(consequent))\n",
    "            self.all_confidence.append((itemset1, consequent, all_confidence))\n",
    "        return self.all_confidence\n",
    "\n",
    "    def get_strong_rules(self, *, metric: Metric = 'confidence', n_rules: int = 10):\n",
    "        sorting_functions = {\n",
    "            'confidence': lambda: sorted(self.rules, key=lambda x: x[2], reverse=True),\n",
    "            'cosine': lambda: sorted(self._get_cosines(), key=lambda x: x[2], reverse=True),\n",
    "            'lift': lambda: sorted(self._get_lifts(), key=lambda x: x[2], reverse=True),\n",
    "            'all_confidence': lambda: sorted(self._get_all_confidence(), key=lambda x: x[2], reverse=True),\n",
    "            'jaccard': lambda: sorted(self._get_jaccard(), key=lambda x: x[2], reverse=True),\n",
    "            'kulczynski': lambda: sorted(self._get_kulczynski(), key=lambda x: x[2], reverse=True),\n",
    "            'max_confidence': lambda: sorted(self._get_max_confidence(), key=lambda x: x[2], reverse=True),\n",
    "        }\n",
    "\n",
    "        if metric in sorting_functions:\n",
    "            return sorting_functions[metric]()[:n_rules]\n",
    "        else:\n",
    "            raise ValueError(f'metric should be one of {\", \".join(sorting_functions.keys())}')\n",
    "\n",
    "\n",
    "    def predict(self, items: list[str], *, metric: Metric = 'confidence'):\n",
    "        prediction_functions = {\n",
    "            'confidence': self._predict_confidence,\n",
    "            'cosine': self._predict_cosine,\n",
    "            'lift': self._predict_lift,\n",
    "            'all_confidence': self._predict_all_confidence,\n",
    "            'jaccard': self._predict_jaccard,\n",
    "            'kulczynski': self._predict_kulczynski,\n",
    "            'max_confidence': self._predict_max_confidence,\n",
    "        }\n",
    "\n",
    "        if metric in prediction_functions:\n",
    "            return prediction_functions[metric](items)\n",
    "        else:\n",
    "            raise ValueError(f'metric should be one of {\", \".join(prediction_functions.keys())}')\n",
    "\n",
    "    def _predict_confidence(self, items: list[str]):\n",
    "        items = set(items)\n",
    "        predictions = []\n",
    "        for itemset1, consequent, confidence in self.rules:\n",
    "            if itemset1 == items:\n",
    "                predictions.append((consequent, confidence))\n",
    "        return sorted(predictions, key=lambda x: x[1], reverse=True)\n",
    "\n",
    "\n",
    "    def _predict_cosine(self, items: list[str]):\n",
    "        items = set(items)\n",
    "        predictions = []\n",
    "        for itemset1, consequent, cosine in self._get_cosines():\n",
    "            if itemset1 == items:\n",
    "                predictions.append((consequent, cosine))\n",
    "        return sorted(predictions, key=lambda x: x[1], reverse=True)\n",
    "\n",
    "\n",
    "    def _predict_lift(self, items: list[str]):\n",
    "        items = set(items)\n",
    "        predictions = []\n",
    "        for itemset1, consequent, lift in self._get_lifts():\n",
    "            if itemset1 == items:\n",
    "                predictions.append((consequent, lift))\n",
    "        return sorted(predictions, key=lambda x: x[1], reverse=True)\n",
    "\n",
    "\n",
    "    def _predict_all_confidence(self, items: list[str]):\n",
    "        items = set(items)\n",
    "        predictions = []\n",
    "        for itemset1, consequent, all_confidence in self._get_all_confidence():\n",
    "            if itemset1 == items:\n",
    "                predictions.append((consequent, all_confidence))\n",
    "        return sorted(predictions, key=lambda x: x[1], reverse=True)\n",
    "\n",
    "\n",
    "    def _predict_jaccard(self, items: list[str]):\n",
    "        items = set(items)\n",
    "        predictions = []\n",
    "        for itemset1, consequent, jaccard in self._get_jaccard():\n",
    "            if itemset1 == items:\n",
    "                predictions.append((consequent, jaccard))\n",
    "        return sorted(predictions, key=lambda x: x[1], reverse=True)\n",
    "\n",
    "\n",
    "    def _predict_kulczynski(self, items: list[str]):\n",
    "        items = set(items)\n",
    "        predictions = []\n",
    "        for itemset1, consequent, kulczynski in self._get_kulczynski():\n",
    "            if itemset1 == items:\n",
    "                predictions.append((consequent, kulczynski))\n",
    "        return sorted(predictions, key=lambda x: x[1], reverse=True)\n",
    "\n",
    "\n",
    "    def _predict_max_confidence(self, items: list[str]):\n",
    "        items = set(items)\n",
    "        predictions = []\n",
    "        for itemset1, consequent, max_confidence in self._get_max_confidence():\n",
    "            if itemset1 == items:\n",
    "                predictions.append((consequent, max_confidence))\n",
    "        return sorted(predictions, key=lambda x: x[1], reverse=True)\n"
   ],
   "metadata": {
    "collapsed": false,
    "ExecuteTime": {
     "end_time": "2023-12-05T12:54:38.665375700Z",
     "start_time": "2023-12-05T12:54:38.625372800Z"
    }
   }
  },
  {
   "cell_type": "code",
   "execution_count": 19,
   "outputs": [],
   "source": [
    "apriori = Apriori(min_support=0.4, min_confidence=0.8)"
   ],
   "metadata": {
    "collapsed": false,
    "ExecuteTime": {
     "end_time": "2023-12-05T12:54:38.673387400Z",
     "start_time": "2023-12-05T12:54:38.641435500Z"
    }
   }
  },
  {
   "cell_type": "code",
   "execution_count": 20,
   "outputs": [],
   "source": [
    "apriori.fit(grouped_df)"
   ],
   "metadata": {
    "collapsed": false,
    "ExecuteTime": {
     "end_time": "2023-12-05T12:54:38.673387400Z",
     "start_time": "2023-12-05T12:54:38.657390300Z"
    }
   }
  },
  {
   "cell_type": "code",
   "execution_count": 21,
   "outputs": [
    {
     "name": "stdout",
     "output_type": "stream",
     "text": [
      "[[(frozenset({'3'}), 0.5555555555555556),\n",
      "  (frozenset({'2'}), 0.5555555555555556),\n",
      "  (frozenset({'1'}), 0.5555555555555556),\n",
      "  (frozenset({'6'}), 0.48148148148148145),\n",
      "  (frozenset({'5'}), 0.6666666666666666),\n",
      "  (frozenset({'7'}), 0.5555555555555556),\n",
      "  (frozenset({'4'}), 0.5555555555555556)],\n",
      " [(frozenset({'3', '1'}), 0.4074074074074074),\n",
      "  (frozenset({'3', '5'}), 0.48148148148148145),\n",
      "  (frozenset({'3', '4'}), 0.4444444444444444),\n",
      "  (frozenset({'2', '1'}), 0.4074074074074074),\n",
      "  (frozenset({'2', '5'}), 0.4074074074074074),\n",
      "  (frozenset({'2', '4'}), 0.4074074074074074),\n",
      "  (frozenset({'5', '1'}), 0.4444444444444444),\n",
      "  (frozenset({'1', '4'}), 0.4074074074074074),\n",
      "  (frozenset({'6', '5'}), 0.4074074074074074),\n",
      "  (frozenset({'5', '4'}), 0.4074074074074074)],\n",
      " [(frozenset({'3', '5', '1'}), 0.4074074074074074)]]\n"
     ]
    }
   ],
   "source": [
    "pprint(apriori.frequent_itemsets)"
   ],
   "metadata": {
    "collapsed": false,
    "ExecuteTime": {
     "end_time": "2023-12-05T12:54:38.742053100Z",
     "start_time": "2023-12-05T12:54:38.673387400Z"
    }
   }
  },
  {
   "cell_type": "code",
   "execution_count": 22,
   "outputs": [
    {
     "name": "stdout",
     "output_type": "stream",
     "text": [
      "[(frozenset({'3'}), frozenset({'5'}), 0.8666666666666666),\n",
      " (frozenset({'6'}), frozenset({'5'}), 0.8461538461538461),\n",
      " (frozenset({'3', '5'}), frozenset({'1'}), 0.8461538461538461),\n",
      " (frozenset({'3', '1'}), frozenset({'5'}), 1.0),\n",
      " (frozenset({'5', '1'}), frozenset({'3'}), 0.9166666666666666)]\n"
     ]
    }
   ],
   "source": [
    "pprint(apriori.rules)"
   ],
   "metadata": {
    "collapsed": false,
    "ExecuteTime": {
     "end_time": "2023-12-05T12:54:38.798123400Z",
     "start_time": "2023-12-05T12:54:38.681377400Z"
    }
   }
  },
  {
   "cell_type": "code",
   "execution_count": 23,
   "outputs": [
    {
     "name": "stdout",
     "output_type": "stream",
     "text": [
      "metric='confidence'\n",
      "[(frozenset({'3', '1'}), frozenset({'5'}), 1.0),\n",
      " (frozenset({'5', '1'}), frozenset({'3'}), 0.9166666666666666)]\n",
      "------------------\n",
      "metric='cosine'\n",
      "[(frozenset({'5', '1'}), frozenset({'3'}), 0.8198915917499229),\n",
      " (frozenset({'3'}), frozenset({'5'}), 0.7911548052852398)]\n",
      "------------------\n",
      "metric='lift'\n",
      "[(frozenset({'5', '1'}), frozenset({'3'}), 1.65),\n",
      " (frozenset({'3', '5'}), frozenset({'1'}), 1.523076923076923)]\n",
      "------------------\n",
      "metric='all_confidence'\n",
      "[(frozenset({'3', '5'}), frozenset({'1'}), 0.7333333333333333),\n",
      " (frozenset({'5', '1'}), frozenset({'3'}), 0.7333333333333333)]\n",
      "------------------\n",
      "metric='jaccard'\n",
      "[(frozenset({'5', '1'}), frozenset({'3'}), 0.6875),\n",
      " (frozenset({'3'}), frozenset({'5'}), 0.6499999999999998)]\n",
      "------------------\n",
      "metric='kulczynski'\n",
      "[(frozenset({'5', '1'}), frozenset({'3'}), 0.825),\n",
      " (frozenset({'3', '1'}), frozenset({'5'}), 0.8055555555555556)]\n",
      "------------------\n",
      "metric='max_confidence'\n",
      "[(frozenset({'6'}), frozenset({'5'}), 1.6363636363636365),\n",
      " (frozenset({'3', '1'}), frozenset({'5'}), 1.6363636363636365)]\n",
      "------------------\n"
     ]
    }
   ],
   "source": [
    "metrics = ['confidence', 'cosine', 'lift', 'all_confidence', 'jaccard', 'kulczynski', 'max_confidence']\n",
    "for metric in metrics:\n",
    "    print(f'{metric=}')\n",
    "    pprint(apriori.get_strong_rules(metric=metric, n_rules=2))\n",
    "    print('------------------')"
   ],
   "metadata": {
    "collapsed": false,
    "ExecuteTime": {
     "end_time": "2023-12-05T12:54:38.830044800Z",
     "start_time": "2023-12-05T12:54:38.697388200Z"
    }
   }
  },
  {
   "cell_type": "markdown",
   "source": [
    "# Apriori Tests with different support and confidence"
   ],
   "metadata": {
    "collapsed": false,
    "ExecuteTime": {
     "end_time": "2023-12-03T16:04:43.222330300Z",
     "start_time": "2023-12-03T16:04:43.114633900Z"
    }
   },
   "outputs": [
    {
     "data": {
      "text/plain": "[(frozenset({'6'}), frozenset({'5'}), 1.6363636363636365),\n (frozenset({'1', '3'}), frozenset({'5'}), 1.6363636363636365)]"
     },
     "execution_count": 24,
     "metadata": {},
     "output_type": "execute_result"
    }
   ],
   "execution_count": 24
  },
  {
   "cell_type": "code",
   "execution_count": 24,
   "outputs": [
    {
     "name": "stdout",
     "output_type": "stream",
     "text": [
      "Itemsets :\n",
      "[[(frozenset({'3'}), 0.5555555555555556),\n",
      "  (frozenset({'2'}), 0.5555555555555556),\n",
      "  (frozenset({'1'}), 0.5555555555555556),\n",
      "  (frozenset({'6'}), 0.48148148148148145),\n",
      "  (frozenset({'5'}), 0.6666666666666666),\n",
      "  (frozenset({'7'}), 0.5555555555555556),\n",
      "  (frozenset({'4'}), 0.5555555555555556)],\n",
      " [(frozenset({'3', '1'}), 0.4074074074074074),\n",
      "  (frozenset({'3', '5'}), 0.48148148148148145),\n",
      "  (frozenset({'3', '4'}), 0.4444444444444444),\n",
      "  (frozenset({'2', '1'}), 0.4074074074074074),\n",
      "  (frozenset({'2', '5'}), 0.4074074074074074),\n",
      "  (frozenset({'2', '4'}), 0.4074074074074074),\n",
      "  (frozenset({'5', '1'}), 0.4444444444444444),\n",
      "  (frozenset({'1', '4'}), 0.4074074074074074),\n",
      "  (frozenset({'6', '5'}), 0.4074074074074074),\n",
      "  (frozenset({'5', '4'}), 0.4074074074074074)],\n",
      " [(frozenset({'3', '5', '1'}), 0.4074074074074074)]]\n",
      "------------------ \n",
      " Rules :\n",
      "[(frozenset({'3'}), frozenset({'1'}), 0.7333333333333333),\n",
      " (frozenset({'1'}), frozenset({'3'}), 0.7333333333333333),\n",
      " (frozenset({'3'}), frozenset({'5'}), 0.8666666666666666),\n",
      " (frozenset({'5'}), frozenset({'3'}), 0.7222222222222222),\n",
      " (frozenset({'3'}), frozenset({'4'}), 0.7999999999999999),\n",
      " (frozenset({'4'}), frozenset({'3'}), 0.7999999999999999),\n",
      " (frozenset({'2'}), frozenset({'1'}), 0.7333333333333333),\n",
      " (frozenset({'1'}), frozenset({'2'}), 0.7333333333333333),\n",
      " (frozenset({'2'}), frozenset({'5'}), 0.7333333333333333),\n",
      " (frozenset({'5'}), frozenset({'2'}), 0.6111111111111112),\n",
      " (frozenset({'2'}), frozenset({'4'}), 0.7333333333333333),\n",
      " (frozenset({'4'}), frozenset({'2'}), 0.7333333333333333),\n",
      " (frozenset({'1'}), frozenset({'5'}), 0.7999999999999999),\n",
      " (frozenset({'5'}), frozenset({'1'}), 0.6666666666666666),\n",
      " (frozenset({'1'}), frozenset({'4'}), 0.7333333333333333),\n",
      " (frozenset({'4'}), frozenset({'1'}), 0.7333333333333333),\n",
      " (frozenset({'5'}), frozenset({'6'}), 0.6111111111111112),\n",
      " (frozenset({'6'}), frozenset({'5'}), 0.8461538461538461),\n",
      " (frozenset({'5'}), frozenset({'4'}), 0.6111111111111112),\n",
      " (frozenset({'4'}), frozenset({'5'}), 0.7333333333333333),\n",
      " (frozenset({'3'}), frozenset({'5', '1'}), 0.7333333333333333),\n",
      " (frozenset({'1'}), frozenset({'3', '5'}), 0.7333333333333333),\n",
      " (frozenset({'5'}), frozenset({'3', '1'}), 0.6111111111111112),\n",
      " (frozenset({'3', '5'}), frozenset({'1'}), 0.8461538461538461),\n",
      " (frozenset({'3', '1'}), frozenset({'5'}), 1.0),\n",
      " (frozenset({'5', '1'}), frozenset({'3'}), 0.9166666666666666)]\n"
     ]
    }
   ],
   "source": [
    "apriori.set_params(min_support=0.4, min_confidence=0.1)\n",
    "apriori.fit(grouped_df)\n",
    "print('Itemsets :')\n",
    "pprint(apriori.frequent_itemsets)\n",
    "print('------------------ \\n Rules :')\n",
    "pprint(apriori.rules)"
   ],
   "metadata": {
    "collapsed": false,
    "ExecuteTime": {
     "end_time": "2023-12-05T12:54:38.830044800Z",
     "start_time": "2023-12-05T12:54:38.713399800Z"
    }
   }
  },
  {
   "cell_type": "code",
   "execution_count": 25,
   "outputs": [
    {
     "name": "stdout",
     "output_type": "stream",
     "text": [
      "Itemsets :\n",
      "[[(frozenset({'3'}), 0.5555555555555556),\n",
      "  (frozenset({'2'}), 0.5555555555555556),\n",
      "  (frozenset({'1'}), 0.5555555555555556),\n",
      "  (frozenset({'5'}), 0.6666666666666666),\n",
      "  (frozenset({'7'}), 0.5555555555555556),\n",
      "  (frozenset({'4'}), 0.5555555555555556)]]\n",
      "------------------ \n",
      " Rules :\n",
      "[]\n"
     ]
    }
   ],
   "source": [
    "apriori.set_params(min_support=0.5, min_confidence=0.1)\n",
    "apriori.fit(grouped_df)\n",
    "print('Itemsets :')\n",
    "pprint(apriori.frequent_itemsets)\n",
    "print('------------------ \\n Rules :')\n",
    "pprint(apriori.rules)"
   ],
   "metadata": {
    "collapsed": false,
    "ExecuteTime": {
     "end_time": "2023-12-05T12:54:38.926210800Z",
     "start_time": "2023-12-05T12:54:38.742053100Z"
    }
   }
  },
  {
   "cell_type": "code",
   "execution_count": 26,
   "outputs": [
    {
     "name": "stdout",
     "output_type": "stream",
     "text": [
      "Itemsets :\n",
      "[[(frozenset({'3'}), 0.5555555555555556),\n",
      "  (frozenset({'2'}), 0.5555555555555556),\n",
      "  (frozenset({'1'}), 0.5555555555555556),\n",
      "  (frozenset({'6'}), 0.48148148148148145),\n",
      "  (frozenset({'5'}), 0.6666666666666666),\n",
      "  (frozenset({'7'}), 0.5555555555555556),\n",
      "  (frozenset({'4'}), 0.5555555555555556)],\n",
      " [(frozenset({'3', '2'}), 0.37037037037037035),\n",
      "  (frozenset({'3', '1'}), 0.4074074074074074),\n",
      "  (frozenset({'6', '3'}), 0.3333333333333333),\n",
      "  (frozenset({'3', '5'}), 0.48148148148148145),\n",
      "  (frozenset({'3', '4'}), 0.4444444444444444),\n",
      "  (frozenset({'2', '1'}), 0.4074074074074074),\n",
      "  (frozenset({'2', '5'}), 0.4074074074074074),\n",
      "  (frozenset({'2', '4'}), 0.4074074074074074),\n",
      "  (frozenset({'5', '1'}), 0.4444444444444444),\n",
      "  (frozenset({'1', '4'}), 0.4074074074074074),\n",
      "  (frozenset({'6', '5'}), 0.4074074074074074),\n",
      "  (frozenset({'5', '4'}), 0.4074074074074074)],\n",
      " [(frozenset({'3', '1', '2'}), 0.3333333333333333),\n",
      "  (frozenset({'3', '5', '2'}), 0.3333333333333333),\n",
      "  (frozenset({'3', '4', '2'}), 0.3333333333333333),\n",
      "  (frozenset({'3', '5', '1'}), 0.4074074074074074),\n",
      "  (frozenset({'3', '1', '4'}), 0.3333333333333333),\n",
      "  (frozenset({'3', '5', '4'}), 0.37037037037037035),\n",
      "  (frozenset({'2', '5', '1'}), 0.37037037037037035),\n",
      "  (frozenset({'2', '1', '4'}), 0.3333333333333333),\n",
      "  (frozenset({'2', '5', '4'}), 0.3333333333333333),\n",
      "  (frozenset({'5', '1', '4'}), 0.3333333333333333)],\n",
      " [(frozenset({'2', '1', '3', '5'}), 0.3333333333333333),\n",
      "  (frozenset({'1', '4', '3', '5'}), 0.3333333333333333)]]\n",
      "------------------ \n",
      " Rules :\n",
      "[(frozenset({'3'}), frozenset({'2'}), 0.6666666666666666),\n",
      " (frozenset({'2'}), frozenset({'3'}), 0.6666666666666666),\n",
      " (frozenset({'3'}), frozenset({'1'}), 0.7333333333333333),\n",
      " (frozenset({'1'}), frozenset({'3'}), 0.7333333333333333),\n",
      " (frozenset({'3'}), frozenset({'6'}), 0.6),\n",
      " (frozenset({'6'}), frozenset({'3'}), 0.6923076923076923),\n",
      " (frozenset({'3'}), frozenset({'5'}), 0.8666666666666666),\n",
      " (frozenset({'5'}), frozenset({'3'}), 0.7222222222222222),\n",
      " (frozenset({'3'}), frozenset({'4'}), 0.7999999999999999),\n",
      " (frozenset({'4'}), frozenset({'3'}), 0.7999999999999999),\n",
      " (frozenset({'2'}), frozenset({'1'}), 0.7333333333333333),\n",
      " (frozenset({'1'}), frozenset({'2'}), 0.7333333333333333),\n",
      " (frozenset({'2'}), frozenset({'5'}), 0.7333333333333333),\n",
      " (frozenset({'5'}), frozenset({'2'}), 0.6111111111111112),\n",
      " (frozenset({'2'}), frozenset({'4'}), 0.7333333333333333),\n",
      " (frozenset({'4'}), frozenset({'2'}), 0.7333333333333333),\n",
      " (frozenset({'1'}), frozenset({'5'}), 0.7999999999999999),\n",
      " (frozenset({'5'}), frozenset({'1'}), 0.6666666666666666),\n",
      " (frozenset({'1'}), frozenset({'4'}), 0.7333333333333333),\n",
      " (frozenset({'4'}), frozenset({'1'}), 0.7333333333333333),\n",
      " (frozenset({'5'}), frozenset({'6'}), 0.6111111111111112),\n",
      " (frozenset({'6'}), frozenset({'5'}), 0.8461538461538461),\n",
      " (frozenset({'5'}), frozenset({'4'}), 0.6111111111111112),\n",
      " (frozenset({'4'}), frozenset({'5'}), 0.7333333333333333),\n",
      " (frozenset({'3'}), frozenset({'2', '1'}), 0.6),\n",
      " (frozenset({'1'}), frozenset({'3', '2'}), 0.6),\n",
      " (frozenset({'2'}), frozenset({'3', '1'}), 0.6),\n",
      " (frozenset({'2', '1'}), frozenset({'3'}), 0.8181818181818182),\n",
      " (frozenset({'3', '2'}), frozenset({'1'}), 0.9),\n",
      " (frozenset({'3', '1'}), frozenset({'2'}), 0.8181818181818182),\n",
      " (frozenset({'3'}), frozenset({'2', '5'}), 0.6),\n",
      " (frozenset({'2'}), frozenset({'3', '5'}), 0.6),\n",
      " (frozenset({'3', '5'}), frozenset({'2'}), 0.6923076923076923),\n",
      " (frozenset({'2', '5'}), frozenset({'3'}), 0.8181818181818182),\n",
      " (frozenset({'3', '2'}), frozenset({'5'}), 0.9),\n",
      " (frozenset({'3'}), frozenset({'2', '4'}), 0.6),\n",
      " (frozenset({'2'}), frozenset({'3', '4'}), 0.6),\n",
      " (frozenset({'4'}), frozenset({'3', '2'}), 0.6),\n",
      " (frozenset({'3', '4'}), frozenset({'2'}), 0.75),\n",
      " (frozenset({'3', '2'}), frozenset({'4'}), 0.9),\n",
      " (frozenset({'2', '4'}), frozenset({'3'}), 0.8181818181818182),\n",
      " (frozenset({'3'}), frozenset({'5', '1'}), 0.7333333333333333),\n",
      " (frozenset({'1'}), frozenset({'3', '5'}), 0.7333333333333333),\n",
      " (frozenset({'5'}), frozenset({'3', '1'}), 0.6111111111111112),\n",
      " (frozenset({'3', '5'}), frozenset({'1'}), 0.8461538461538461),\n",
      " (frozenset({'3', '1'}), frozenset({'5'}), 1.0),\n",
      " (frozenset({'5', '1'}), frozenset({'3'}), 0.9166666666666666),\n",
      " (frozenset({'3'}), frozenset({'1', '4'}), 0.6),\n",
      " (frozenset({'1'}), frozenset({'3', '4'}), 0.6),\n",
      " (frozenset({'4'}), frozenset({'3', '1'}), 0.6),\n",
      " (frozenset({'3', '4'}), frozenset({'1'}), 0.75),\n",
      " (frozenset({'1', '4'}), frozenset({'3'}), 0.8181818181818182),\n",
      " (frozenset({'3', '1'}), frozenset({'4'}), 0.8181818181818182),\n",
      " (frozenset({'3'}), frozenset({'5', '4'}), 0.6666666666666666),\n",
      " (frozenset({'4'}), frozenset({'3', '5'}), 0.6666666666666666),\n",
      " (frozenset({'3', '5'}), frozenset({'4'}), 0.7692307692307693),\n",
      " (frozenset({'5', '4'}), frozenset({'3'}), 0.9090909090909091),\n",
      " (frozenset({'3', '4'}), frozenset({'5'}), 0.8333333333333334),\n",
      " (frozenset({'2'}), frozenset({'5', '1'}), 0.6666666666666666),\n",
      " (frozenset({'1'}), frozenset({'2', '5'}), 0.6666666666666666),\n",
      " (frozenset({'2', '5'}), frozenset({'1'}), 0.9090909090909091),\n",
      " (frozenset({'2', '1'}), frozenset({'5'}), 0.9090909090909091),\n",
      " (frozenset({'5', '1'}), frozenset({'2'}), 0.8333333333333334),\n",
      " (frozenset({'2'}), frozenset({'1', '4'}), 0.6),\n",
      " (frozenset({'1'}), frozenset({'2', '4'}), 0.6),\n",
      " (frozenset({'4'}), frozenset({'2', '1'}), 0.6),\n",
      " (frozenset({'2', '4'}), frozenset({'1'}), 0.8181818181818182),\n",
      " (frozenset({'1', '4'}), frozenset({'2'}), 0.8181818181818182),\n",
      " (frozenset({'2', '1'}), frozenset({'4'}), 0.8181818181818182),\n",
      " (frozenset({'2'}), frozenset({'5', '4'}), 0.6),\n",
      " (frozenset({'4'}), frozenset({'2', '5'}), 0.6),\n",
      " (frozenset({'2', '5'}), frozenset({'4'}), 0.8181818181818182),\n",
      " (frozenset({'5', '4'}), frozenset({'2'}), 0.8181818181818182),\n",
      " (frozenset({'2', '4'}), frozenset({'5'}), 0.8181818181818182),\n",
      " (frozenset({'1'}), frozenset({'5', '4'}), 0.6),\n",
      " (frozenset({'4'}), frozenset({'5', '1'}), 0.6),\n",
      " (frozenset({'5', '4'}), frozenset({'1'}), 0.8181818181818182),\n",
      " (frozenset({'1', '4'}), frozenset({'5'}), 0.8181818181818182),\n",
      " (frozenset({'5', '1'}), frozenset({'4'}), 0.75),\n",
      " (frozenset({'3'}), frozenset({'2', '5', '1'}), 0.6),\n",
      " (frozenset({'2'}), frozenset({'3', '5', '1'}), 0.6),\n",
      " (frozenset({'1'}), frozenset({'5', '2', '3'}), 0.6),\n",
      " (frozenset({'2', '5'}), frozenset({'3', '1'}), 0.8181818181818182),\n",
      " (frozenset({'3', '1'}), frozenset({'2', '5'}), 0.8181818181818182),\n",
      " (frozenset({'5', '1'}), frozenset({'2', '3'}), 0.75),\n",
      " (frozenset({'3', '5'}), frozenset({'2', '1'}), 0.6923076923076923),\n",
      " (frozenset({'2', '1'}), frozenset({'3', '5'}), 0.8181818181818182),\n",
      " (frozenset({'2', '3'}), frozenset({'5', '1'}), 0.9),\n",
      " (frozenset({'2', '3', '1'}), frozenset({'5'}), 1.0),\n",
      " (frozenset({'3', '5', '1'}), frozenset({'2'}), 0.8181818181818182),\n",
      " (frozenset({'5', '2', '3'}), frozenset({'1'}), 1.0),\n",
      " (frozenset({'2', '5', '1'}), frozenset({'3'}), 0.9),\n",
      " (frozenset({'3'}), frozenset({'5', '1', '4'}), 0.6),\n",
      " (frozenset({'1'}), frozenset({'3', '5', '4'}), 0.6),\n",
      " (frozenset({'4'}), frozenset({'3', '5', '1'}), 0.6),\n",
      " (frozenset({'1', '4'}), frozenset({'3', '5'}), 0.8181818181818182),\n",
      " (frozenset({'3', '1'}), frozenset({'5', '4'}), 0.8181818181818182),\n",
      " (frozenset({'5', '1'}), frozenset({'3', '4'}), 0.75),\n",
      " (frozenset({'3', '5'}), frozenset({'1', '4'}), 0.6923076923076923),\n",
      " (frozenset({'5', '4'}), frozenset({'3', '1'}), 0.8181818181818182),\n",
      " (frozenset({'3', '4'}), frozenset({'5', '1'}), 0.75),\n",
      " (frozenset({'3', '5', '1'}), frozenset({'4'}), 0.8181818181818182),\n",
      " (frozenset({'3', '5', '4'}), frozenset({'1'}), 0.9),\n",
      " (frozenset({'5', '1', '4'}), frozenset({'3'}), 1.0),\n",
      " (frozenset({'3', '1', '4'}), frozenset({'5'}), 1.0)]\n"
     ]
    }
   ],
   "source": [
    "apriori.set_params(min_support=0.3, min_confidence=0.6)\n",
    "apriori.fit(grouped_df)\n",
    "print('Itemsets :')\n",
    "pprint(apriori.frequent_itemsets)\n",
    "print('------------------ \\n Rules :')\n",
    "pprint(apriori.rules)"
   ],
   "metadata": {
    "collapsed": false,
    "ExecuteTime": {
     "end_time": "2023-12-05T12:54:38.942212800Z",
     "start_time": "2023-12-05T12:54:38.750051300Z"
    }
   }
  },
  {
   "cell_type": "code",
   "execution_count": 27,
   "outputs": [
    {
     "name": "stdout",
     "output_type": "stream",
     "text": [
      "Itemsets :\n",
      "[[(frozenset({'3'}), 0.5555555555555556),\n",
      "  (frozenset({'2'}), 0.5555555555555556),\n",
      "  (frozenset({'1'}), 0.5555555555555556),\n",
      "  (frozenset({'6'}), 0.48148148148148145),\n",
      "  (frozenset({'5'}), 0.6666666666666666),\n",
      "  (frozenset({'7'}), 0.5555555555555556),\n",
      "  (frozenset({'4'}), 0.5555555555555556)],\n",
      " [(frozenset({'3', '1'}), 0.4074074074074074),\n",
      "  (frozenset({'3', '5'}), 0.48148148148148145),\n",
      "  (frozenset({'3', '4'}), 0.4444444444444444),\n",
      "  (frozenset({'2', '1'}), 0.4074074074074074),\n",
      "  (frozenset({'2', '5'}), 0.4074074074074074),\n",
      "  (frozenset({'2', '4'}), 0.4074074074074074),\n",
      "  (frozenset({'5', '1'}), 0.4444444444444444),\n",
      "  (frozenset({'1', '4'}), 0.4074074074074074),\n",
      "  (frozenset({'6', '5'}), 0.4074074074074074),\n",
      "  (frozenset({'5', '4'}), 0.4074074074074074)],\n",
      " [(frozenset({'3', '5', '1'}), 0.4074074074074074)]]\n",
      "------------------ \n",
      " Rules :\n",
      "[(frozenset({'3'}), frozenset({'5'}), 0.8666666666666666),\n",
      " (frozenset({'6'}), frozenset({'5'}), 0.8461538461538461),\n",
      " (frozenset({'3', '5'}), frozenset({'1'}), 0.8461538461538461),\n",
      " (frozenset({'3', '1'}), frozenset({'5'}), 1.0),\n",
      " (frozenset({'5', '1'}), frozenset({'3'}), 0.9166666666666666)]\n"
     ]
    }
   ],
   "source": [
    "apriori.set_params(min_support=0.4, min_confidence=0.8)\n",
    "apriori.fit(grouped_df)\n",
    "print('Itemsets :')\n",
    "pprint(apriori.frequent_itemsets)\n",
    "print('------------------ \\n Rules :')\n",
    "pprint(apriori.rules)"
   ],
   "metadata": {
    "collapsed": false,
    "ExecuteTime": {
     "end_time": "2023-12-05T12:54:38.958211500Z",
     "start_time": "2023-12-05T12:54:38.766043900Z"
    }
   }
  },
  {
   "cell_type": "code",
   "execution_count": 28,
   "outputs": [
    {
     "name": "stdout",
     "output_type": "stream",
     "text": [
      "Itemsets :\n",
      "[[(frozenset({'3'}), 0.5555555555555556),\n",
      "  (frozenset({'2'}), 0.5555555555555556),\n",
      "  (frozenset({'1'}), 0.5555555555555556),\n",
      "  (frozenset({'6'}), 0.48148148148148145),\n",
      "  (frozenset({'5'}), 0.6666666666666666),\n",
      "  (frozenset({'7'}), 0.5555555555555556),\n",
      "  (frozenset({'4'}), 0.5555555555555556)],\n",
      " [(frozenset({'3', '1'}), 0.4074074074074074),\n",
      "  (frozenset({'3', '5'}), 0.48148148148148145),\n",
      "  (frozenset({'3', '4'}), 0.4444444444444444),\n",
      "  (frozenset({'2', '1'}), 0.4074074074074074),\n",
      "  (frozenset({'2', '5'}), 0.4074074074074074),\n",
      "  (frozenset({'2', '4'}), 0.4074074074074074),\n",
      "  (frozenset({'5', '1'}), 0.4444444444444444),\n",
      "  (frozenset({'1', '4'}), 0.4074074074074074),\n",
      "  (frozenset({'6', '5'}), 0.4074074074074074),\n",
      "  (frozenset({'5', '4'}), 0.4074074074074074)],\n",
      " [(frozenset({'3', '5', '1'}), 0.4074074074074074)]]\n",
      "------------------ \n",
      " Rules :\n",
      "[(frozenset({'3'}), frozenset({'1'}), 0.7333333333333333),\n",
      " (frozenset({'1'}), frozenset({'3'}), 0.7333333333333333),\n",
      " (frozenset({'3'}), frozenset({'5'}), 0.8666666666666666),\n",
      " (frozenset({'5'}), frozenset({'3'}), 0.7222222222222222),\n",
      " (frozenset({'3'}), frozenset({'4'}), 0.7999999999999999),\n",
      " (frozenset({'4'}), frozenset({'3'}), 0.7999999999999999),\n",
      " (frozenset({'2'}), frozenset({'1'}), 0.7333333333333333),\n",
      " (frozenset({'1'}), frozenset({'2'}), 0.7333333333333333),\n",
      " (frozenset({'2'}), frozenset({'5'}), 0.7333333333333333),\n",
      " (frozenset({'5'}), frozenset({'2'}), 0.6111111111111112),\n",
      " (frozenset({'2'}), frozenset({'4'}), 0.7333333333333333),\n",
      " (frozenset({'4'}), frozenset({'2'}), 0.7333333333333333),\n",
      " (frozenset({'1'}), frozenset({'5'}), 0.7999999999999999),\n",
      " (frozenset({'5'}), frozenset({'1'}), 0.6666666666666666),\n",
      " (frozenset({'1'}), frozenset({'4'}), 0.7333333333333333),\n",
      " (frozenset({'4'}), frozenset({'1'}), 0.7333333333333333),\n",
      " (frozenset({'5'}), frozenset({'6'}), 0.6111111111111112),\n",
      " (frozenset({'6'}), frozenset({'5'}), 0.8461538461538461),\n",
      " (frozenset({'5'}), frozenset({'4'}), 0.6111111111111112),\n",
      " (frozenset({'4'}), frozenset({'5'}), 0.7333333333333333),\n",
      " (frozenset({'3'}), frozenset({'5', '1'}), 0.7333333333333333),\n",
      " (frozenset({'1'}), frozenset({'3', '5'}), 0.7333333333333333),\n",
      " (frozenset({'5'}), frozenset({'3', '1'}), 0.6111111111111112),\n",
      " (frozenset({'3', '5'}), frozenset({'1'}), 0.8461538461538461),\n",
      " (frozenset({'3', '1'}), frozenset({'5'}), 1.0),\n",
      " (frozenset({'5', '1'}), frozenset({'3'}), 0.9166666666666666)]\n"
     ]
    }
   ],
   "source": [
    "apriori.set_params(min_support=0.4, min_confidence=0.5)\n",
    "apriori.fit(grouped_df)\n",
    "print('Itemsets :')\n",
    "pprint(apriori.frequent_itemsets)\n",
    "print('------------------ \\n Rules :')\n",
    "pprint(apriori.rules)"
   ],
   "metadata": {
    "collapsed": false,
    "ExecuteTime": {
     "end_time": "2023-12-05T12:54:38.958211500Z",
     "start_time": "2023-12-05T12:54:38.798123400Z"
    }
   }
  },
  {
   "cell_type": "markdown",
   "source": [
    "# Apriori Predictions"
   ],
   "metadata": {
    "collapsed": false,
    "ExecuteTime": {
     "end_time": "2023-12-03T16:04:43.224334700Z",
     "start_time": "2023-12-03T16:04:43.192634800Z"
    }
   },
   "outputs": [
    {
     "name": "stdout",
     "output_type": "stream",
     "text": [
      "Itemsets :\n",
      "[[(frozenset({'5'}), 0.6666666666666666),\n",
      "  (frozenset({'1'}), 0.5555555555555556),\n",
      "  (frozenset({'2'}), 0.5555555555555556),\n",
      "  (frozenset({'3'}), 0.5555555555555556),\n",
      "  (frozenset({'6'}), 0.48148148148148145),\n",
      "  (frozenset({'7'}), 0.5555555555555556),\n",
      "  (frozenset({'4'}), 0.5555555555555556)],\n",
      " [(frozenset({'1', '5'}), 0.4444444444444444),\n",
      "  (frozenset({'5', '2'}), 0.4074074074074074),\n",
      "  (frozenset({'5', '3'}), 0.48148148148148145),\n",
      "  (frozenset({'6', '5'}), 0.4074074074074074),\n",
      "  (frozenset({'4', '5'}), 0.4074074074074074),\n",
      "  (frozenset({'1', '2'}), 0.4074074074074074),\n",
      "  (frozenset({'1', '3'}), 0.4074074074074074),\n",
      "  (frozenset({'4', '1'}), 0.4074074074074074),\n",
      "  (frozenset({'4', '2'}), 0.4074074074074074),\n",
      "  (frozenset({'4', '3'}), 0.4444444444444444)],\n",
      " [(frozenset({'1', '5', '3'}), 0.4074074074074074)]]\n",
      "------------------ \n",
      " Rules :\n",
      "[(frozenset({'1'}), frozenset({'5'}), 0.7999999999999999),\n",
      " (frozenset({'5'}), frozenset({'1'}), 0.6666666666666666),\n",
      " (frozenset({'2'}), frozenset({'5'}), 0.7333333333333333),\n",
      " (frozenset({'5'}), frozenset({'2'}), 0.6111111111111112),\n",
      " (frozenset({'3'}), frozenset({'5'}), 0.8666666666666666),\n",
      " (frozenset({'5'}), frozenset({'3'}), 0.7222222222222222),\n",
      " (frozenset({'6'}), frozenset({'5'}), 0.8461538461538461),\n",
      " (frozenset({'5'}), frozenset({'6'}), 0.6111111111111112),\n",
      " (frozenset({'4'}), frozenset({'5'}), 0.7333333333333333),\n",
      " (frozenset({'5'}), frozenset({'4'}), 0.6111111111111112),\n",
      " (frozenset({'2'}), frozenset({'1'}), 0.7333333333333333),\n",
      " (frozenset({'1'}), frozenset({'2'}), 0.7333333333333333),\n",
      " (frozenset({'3'}), frozenset({'1'}), 0.7333333333333333),\n",
      " (frozenset({'1'}), frozenset({'3'}), 0.7333333333333333),\n",
      " (frozenset({'4'}), frozenset({'1'}), 0.7333333333333333),\n",
      " (frozenset({'1'}), frozenset({'4'}), 0.7333333333333333),\n",
      " (frozenset({'4'}), frozenset({'2'}), 0.7333333333333333),\n",
      " (frozenset({'2'}), frozenset({'4'}), 0.7333333333333333),\n",
      " (frozenset({'4'}), frozenset({'3'}), 0.7999999999999999),\n",
      " (frozenset({'3'}), frozenset({'4'}), 0.7999999999999999),\n",
      " (frozenset({'3'}), frozenset({'5', '1'}), 0.7333333333333333),\n",
      " (frozenset({'1'}), frozenset({'5', '3'}), 0.7333333333333333),\n",
      " (frozenset({'5'}), frozenset({'1', '3'}), 0.6111111111111112),\n",
      " (frozenset({'5', '3'}), frozenset({'1'}), 0.8461538461538461),\n",
      " (frozenset({'1', '3'}), frozenset({'5'}), 1.0),\n",
      " (frozenset({'5', '1'}), frozenset({'3'}), 0.9166666666666666)]\n"
     ]
    }
   ],
   "execution_count": 29
  },
  {
   "cell_type": "code",
   "execution_count": 29,
   "outputs": [
    {
     "data": {
      "text/plain": "[(frozenset({'5'}), 0.7999999999999999),\n (frozenset({'3'}), 0.7333333333333333),\n (frozenset({'2'}), 0.7333333333333333),\n (frozenset({'4'}), 0.7333333333333333),\n (frozenset({'3', '5'}), 0.7333333333333333)]"
     },
     "execution_count": 29,
     "metadata": {},
     "output_type": "execute_result"
    }
   ],
   "source": [
    "apriori.predict(['1'], metric='confidence')"
   ],
   "metadata": {
    "collapsed": false,
    "ExecuteTime": {
     "end_time": "2023-12-05T12:54:38.958211500Z",
     "start_time": "2023-12-05T12:54:38.806049400Z"
    }
   }
  },
  {
   "cell_type": "markdown",
   "source": [
    "# Check if apriori is working"
   ],
   "metadata": {
    "collapsed": false,
    "ExecuteTime": {
     "end_time": "2023-12-03T16:05:17.867611600Z",
     "start_time": "2023-12-03T16:05:17.841613800Z"
    }
   },
   "outputs": [
    {
     "data": {
      "text/plain": "[(frozenset({'5'}), 0.7999999999999999),\n (frozenset({'2'}), 0.7333333333333333),\n (frozenset({'3'}), 0.7333333333333333),\n (frozenset({'4'}), 0.7333333333333333),\n (frozenset({'3', '5'}), 0.7333333333333333)]"
     },
     "execution_count": 29,
     "metadata": {},
     "output_type": "execute_result"
    }
   ],
   "execution_count": 29
  },
  {
   "cell_type": "code",
   "execution_count": 30,
   "outputs": [
    {
     "name": "stdout",
     "output_type": "stream",
     "text": [
      "items_A=['1'] items_B=['5', '3'] union_support=0.4074074074074074 query_confidence=0.7333333333333333\n"
     ]
    }
   ],
   "source": [
    "items_A = ['1']\n",
    "items_B = ['5', '3']\n",
    "\n",
    "A_union_B = sum(grouped_df['Items'].apply(lambda x: all(item in x for item in items_A + items_B)))\n",
    "A = sum(grouped_df['Items'].apply(lambda x: all(item in x for item in items_A)))\n",
    "B = sum(grouped_df['Items'].apply(lambda x: all(item in x for item in items_B)))\n",
    "\n",
    "union_support = A_union_B / len(grouped_df)\n",
    "query_confidence = A_union_B / A\n",
    "\n",
    "print(f'{items_A=} {items_B=} {union_support=} {query_confidence=}')"
   ],
   "metadata": {
    "collapsed": false,
    "ExecuteTime": {
     "end_time": "2023-12-05T12:54:38.958211500Z",
     "start_time": "2023-12-05T12:54:38.830044800Z"
    }
   }
  },
  {
   "cell_type": "markdown",
   "source": [
    "- we can see that the result is the same as the confidence of the rule"
   ],
   "metadata": {
    "collapsed": false,
    "ExecuteTime": {
     "end_time": "2023-12-03T16:05:28.678489600Z",
     "start_time": "2023-12-03T16:05:28.660495700Z"
    }
   },
   "outputs": [
    {
     "name": "stdout",
     "output_type": "stream",
     "text": [
      "items_A=['1'] items_B=['5', '3'] union_support=0.4074074074074074 query_confidence=0.7333333333333333\n"
     ]
    }
   ],
   "execution_count": 32
  }
 ],
 "metadata": {
  "kernelspec": {
   "display_name": "Python 3",
   "language": "python",
   "name": "python3"
  },
  "language_info": {
   "codemirror_mode": {
    "name": "ipython",
    "version": 2
   },
   "file_extension": ".py",
   "mimetype": "text/x-python",
   "name": "python",
   "nbconvert_exporter": "python",
   "pygments_lexer": "ipython2",
   "version": "2.7.6"
  }
 },
 "nbformat": 4,
 "nbformat_minor": 0
}
