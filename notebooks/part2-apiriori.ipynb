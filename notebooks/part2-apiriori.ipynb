{
 "cells": [
  {
   "cell_type": "code",
   "execution_count": 265,
   "metadata": {
    "collapsed": true,
    "ExecuteTime": {
     "end_time": "2023-11-30T10:00:34.691901Z",
     "start_time": "2023-11-30T10:00:34.645895900Z"
    }
   },
   "outputs": [],
   "source": [
    "import pandas as pd\n",
    "from collections import Counter\n",
    "from pprint import pprint\n",
    "from matplotlib import pyplot as plt\n",
    "import seaborn as sns\n",
    "from pathlib import Path\n",
    "import numpy as np\n",
    "from itertools import combinations\n",
    "from pprint import pprint\n",
    "from collections import defaultdict\n",
    "import math"
   ]
  },
  {
   "cell_type": "code",
   "execution_count": 266,
   "outputs": [],
   "source": [
    "data_dir = Path('../data')"
   ],
   "metadata": {
    "collapsed": false,
    "ExecuteTime": {
     "end_time": "2023-11-30T10:00:34.732904700Z",
     "start_time": "2023-11-30T10:00:34.658896200Z"
    }
   }
  },
  {
   "cell_type": "code",
   "execution_count": 267,
   "outputs": [
    {
     "data": {
      "text/plain": "     Temperature  Humidity  Rainfall        Soil     Crop Fertilizer\n0          24.87     82.84    295.61      Clayey     rice        DAP\n1          28.69     96.65    178.96    laterite  Coconut   Good NPK\n2          20.27     81.64    270.44  silty clay     rice        MOP\n3          25.07     95.02    192.90       sandy  Coconut       Urea\n4          25.04     95.90    174.80     coastal  Coconut       Urea\n..           ...       ...       ...         ...      ...        ...\n290        26.07     96.70    143.53       sandy  Coconut        MOP\n291        25.63     83.53    209.90  silty clay     rice        MOP\n292        24.52     83.54    230.45      Clayey     rice        MOP\n293        25.66     83.47    217.38      Clayey     rice        MOP\n294        23.83     84.81    298.56  silty clay     rice        MOP\n\n[295 rows x 6 columns]",
      "text/html": "<div>\n<style scoped>\n    .dataframe tbody tr th:only-of-type {\n        vertical-align: middle;\n    }\n\n    .dataframe tbody tr th {\n        vertical-align: top;\n    }\n\n    .dataframe thead th {\n        text-align: right;\n    }\n</style>\n<table border=\"1\" class=\"dataframe\">\n  <thead>\n    <tr style=\"text-align: right;\">\n      <th></th>\n      <th>Temperature</th>\n      <th>Humidity</th>\n      <th>Rainfall</th>\n      <th>Soil</th>\n      <th>Crop</th>\n      <th>Fertilizer</th>\n    </tr>\n  </thead>\n  <tbody>\n    <tr>\n      <th>0</th>\n      <td>24.87</td>\n      <td>82.84</td>\n      <td>295.61</td>\n      <td>Clayey</td>\n      <td>rice</td>\n      <td>DAP</td>\n    </tr>\n    <tr>\n      <th>1</th>\n      <td>28.69</td>\n      <td>96.65</td>\n      <td>178.96</td>\n      <td>laterite</td>\n      <td>Coconut</td>\n      <td>Good NPK</td>\n    </tr>\n    <tr>\n      <th>2</th>\n      <td>20.27</td>\n      <td>81.64</td>\n      <td>270.44</td>\n      <td>silty clay</td>\n      <td>rice</td>\n      <td>MOP</td>\n    </tr>\n    <tr>\n      <th>3</th>\n      <td>25.07</td>\n      <td>95.02</td>\n      <td>192.90</td>\n      <td>sandy</td>\n      <td>Coconut</td>\n      <td>Urea</td>\n    </tr>\n    <tr>\n      <th>4</th>\n      <td>25.04</td>\n      <td>95.90</td>\n      <td>174.80</td>\n      <td>coastal</td>\n      <td>Coconut</td>\n      <td>Urea</td>\n    </tr>\n    <tr>\n      <th>...</th>\n      <td>...</td>\n      <td>...</td>\n      <td>...</td>\n      <td>...</td>\n      <td>...</td>\n      <td>...</td>\n    </tr>\n    <tr>\n      <th>290</th>\n      <td>26.07</td>\n      <td>96.70</td>\n      <td>143.53</td>\n      <td>sandy</td>\n      <td>Coconut</td>\n      <td>MOP</td>\n    </tr>\n    <tr>\n      <th>291</th>\n      <td>25.63</td>\n      <td>83.53</td>\n      <td>209.90</td>\n      <td>silty clay</td>\n      <td>rice</td>\n      <td>MOP</td>\n    </tr>\n    <tr>\n      <th>292</th>\n      <td>24.52</td>\n      <td>83.54</td>\n      <td>230.45</td>\n      <td>Clayey</td>\n      <td>rice</td>\n      <td>MOP</td>\n    </tr>\n    <tr>\n      <th>293</th>\n      <td>25.66</td>\n      <td>83.47</td>\n      <td>217.38</td>\n      <td>Clayey</td>\n      <td>rice</td>\n      <td>MOP</td>\n    </tr>\n    <tr>\n      <th>294</th>\n      <td>23.83</td>\n      <td>84.81</td>\n      <td>298.56</td>\n      <td>silty clay</td>\n      <td>rice</td>\n      <td>MOP</td>\n    </tr>\n  </tbody>\n</table>\n<p>295 rows × 6 columns</p>\n</div>"
     },
     "execution_count": 267,
     "metadata": {},
     "output_type": "execute_result"
    }
   ],
   "source": [
    "data_path = data_dir / 'Dataset3.csv'\n",
    "df = pd.read_csv(data_path)\n",
    "df"
   ],
   "metadata": {
    "collapsed": false,
    "ExecuteTime": {
     "end_time": "2023-11-30T10:00:34.733894Z",
     "start_time": "2023-11-30T10:00:34.673898200Z"
    }
   }
  },
  {
   "cell_type": "markdown",
   "source": [
    "# discretize the data"
   ],
   "metadata": {
    "collapsed": false
   }
  },
  {
   "cell_type": "code",
   "execution_count": 268,
   "outputs": [
    {
     "data": {
      "text/plain": "     Temperature  Humidity  Rainfall        Soil     Crop Fertilizer\n0          24.87     82.84    295.61      Clayey     rice        DAP\n1          28.69     96.65    178.96    laterite  Coconut   Good NPK\n2          20.27     81.64    270.44  silty clay     rice        MOP\n3          25.07     95.02    192.90       sandy  Coconut       Urea\n4          25.04     95.90    174.80     coastal  Coconut       Urea\n..           ...       ...       ...         ...      ...        ...\n290        26.07     96.70    143.53       sandy  Coconut        MOP\n291        25.63     83.53    209.90  silty clay     rice        MOP\n292        24.52     83.54    230.45      Clayey     rice        MOP\n293        25.66     83.47    217.38      Clayey     rice        MOP\n294        23.83     84.81    298.56  silty clay     rice        MOP\n\n[295 rows x 6 columns]",
      "text/html": "<div>\n<style scoped>\n    .dataframe tbody tr th:only-of-type {\n        vertical-align: middle;\n    }\n\n    .dataframe tbody tr th {\n        vertical-align: top;\n    }\n\n    .dataframe thead th {\n        text-align: right;\n    }\n</style>\n<table border=\"1\" class=\"dataframe\">\n  <thead>\n    <tr style=\"text-align: right;\">\n      <th></th>\n      <th>Temperature</th>\n      <th>Humidity</th>\n      <th>Rainfall</th>\n      <th>Soil</th>\n      <th>Crop</th>\n      <th>Fertilizer</th>\n    </tr>\n  </thead>\n  <tbody>\n    <tr>\n      <th>0</th>\n      <td>24.87</td>\n      <td>82.84</td>\n      <td>295.61</td>\n      <td>Clayey</td>\n      <td>rice</td>\n      <td>DAP</td>\n    </tr>\n    <tr>\n      <th>1</th>\n      <td>28.69</td>\n      <td>96.65</td>\n      <td>178.96</td>\n      <td>laterite</td>\n      <td>Coconut</td>\n      <td>Good NPK</td>\n    </tr>\n    <tr>\n      <th>2</th>\n      <td>20.27</td>\n      <td>81.64</td>\n      <td>270.44</td>\n      <td>silty clay</td>\n      <td>rice</td>\n      <td>MOP</td>\n    </tr>\n    <tr>\n      <th>3</th>\n      <td>25.07</td>\n      <td>95.02</td>\n      <td>192.90</td>\n      <td>sandy</td>\n      <td>Coconut</td>\n      <td>Urea</td>\n    </tr>\n    <tr>\n      <th>4</th>\n      <td>25.04</td>\n      <td>95.90</td>\n      <td>174.80</td>\n      <td>coastal</td>\n      <td>Coconut</td>\n      <td>Urea</td>\n    </tr>\n    <tr>\n      <th>...</th>\n      <td>...</td>\n      <td>...</td>\n      <td>...</td>\n      <td>...</td>\n      <td>...</td>\n      <td>...</td>\n    </tr>\n    <tr>\n      <th>290</th>\n      <td>26.07</td>\n      <td>96.70</td>\n      <td>143.53</td>\n      <td>sandy</td>\n      <td>Coconut</td>\n      <td>MOP</td>\n    </tr>\n    <tr>\n      <th>291</th>\n      <td>25.63</td>\n      <td>83.53</td>\n      <td>209.90</td>\n      <td>silty clay</td>\n      <td>rice</td>\n      <td>MOP</td>\n    </tr>\n    <tr>\n      <th>292</th>\n      <td>24.52</td>\n      <td>83.54</td>\n      <td>230.45</td>\n      <td>Clayey</td>\n      <td>rice</td>\n      <td>MOP</td>\n    </tr>\n    <tr>\n      <th>293</th>\n      <td>25.66</td>\n      <td>83.47</td>\n      <td>217.38</td>\n      <td>Clayey</td>\n      <td>rice</td>\n      <td>MOP</td>\n    </tr>\n    <tr>\n      <th>294</th>\n      <td>23.83</td>\n      <td>84.81</td>\n      <td>298.56</td>\n      <td>silty clay</td>\n      <td>rice</td>\n      <td>MOP</td>\n    </tr>\n  </tbody>\n</table>\n<p>295 rows × 6 columns</p>\n</div>"
     },
     "execution_count": 268,
     "metadata": {},
     "output_type": "execute_result"
    }
   ],
   "source": [
    "df"
   ],
   "metadata": {
    "collapsed": false,
    "ExecuteTime": {
     "end_time": "2023-11-30T10:00:34.743895200Z",
     "start_time": "2023-11-30T10:00:34.695896500Z"
    }
   }
  },
  {
   "cell_type": "code",
   "execution_count": 269,
   "outputs": [
    {
     "data": {
      "text/plain": "       Temperature    Humidity    Rainfall\ncount   295.000000  295.000000  295.000000\nmean     25.522068   88.472271  205.330983\nstd       2.495289    6.550542   43.276280\nmin      20.050000   80.120000  131.090000\n25%      23.810000   82.275000  172.480000\n50%      25.760000   84.970000  202.940000\n75%      27.170000   94.800000  231.560000\nmax      29.870000   99.980000  298.560000",
      "text/html": "<div>\n<style scoped>\n    .dataframe tbody tr th:only-of-type {\n        vertical-align: middle;\n    }\n\n    .dataframe tbody tr th {\n        vertical-align: top;\n    }\n\n    .dataframe thead th {\n        text-align: right;\n    }\n</style>\n<table border=\"1\" class=\"dataframe\">\n  <thead>\n    <tr style=\"text-align: right;\">\n      <th></th>\n      <th>Temperature</th>\n      <th>Humidity</th>\n      <th>Rainfall</th>\n    </tr>\n  </thead>\n  <tbody>\n    <tr>\n      <th>count</th>\n      <td>295.000000</td>\n      <td>295.000000</td>\n      <td>295.000000</td>\n    </tr>\n    <tr>\n      <th>mean</th>\n      <td>25.522068</td>\n      <td>88.472271</td>\n      <td>205.330983</td>\n    </tr>\n    <tr>\n      <th>std</th>\n      <td>2.495289</td>\n      <td>6.550542</td>\n      <td>43.276280</td>\n    </tr>\n    <tr>\n      <th>min</th>\n      <td>20.050000</td>\n      <td>80.120000</td>\n      <td>131.090000</td>\n    </tr>\n    <tr>\n      <th>25%</th>\n      <td>23.810000</td>\n      <td>82.275000</td>\n      <td>172.480000</td>\n    </tr>\n    <tr>\n      <th>50%</th>\n      <td>25.760000</td>\n      <td>84.970000</td>\n      <td>202.940000</td>\n    </tr>\n    <tr>\n      <th>75%</th>\n      <td>27.170000</td>\n      <td>94.800000</td>\n      <td>231.560000</td>\n    </tr>\n    <tr>\n      <th>max</th>\n      <td>29.870000</td>\n      <td>99.980000</td>\n      <td>298.560000</td>\n    </tr>\n  </tbody>\n</table>\n</div>"
     },
     "execution_count": 269,
     "metadata": {},
     "output_type": "execute_result"
    }
   ],
   "source": [
    "df.describe()"
   ],
   "metadata": {
    "collapsed": false,
    "ExecuteTime": {
     "end_time": "2023-11-30T10:00:34.743895200Z",
     "start_time": "2023-11-30T10:00:34.703897100Z"
    }
   }
  },
  {
   "cell_type": "code",
   "execution_count": 270,
   "outputs": [
    {
     "name": "stdout",
     "output_type": "stream",
     "text": [
      "<class 'pandas.core.frame.DataFrame'>\n",
      "RangeIndex: 295 entries, 0 to 294\n",
      "Data columns (total 6 columns):\n",
      " #   Column       Non-Null Count  Dtype  \n",
      "---  ------       --------------  -----  \n",
      " 0   Temperature  295 non-null    float64\n",
      " 1   Humidity     295 non-null    float64\n",
      " 2   Rainfall     295 non-null    float64\n",
      " 3   Soil         295 non-null    object \n",
      " 4   Crop         295 non-null    object \n",
      " 5   Fertilizer   295 non-null    object \n",
      "dtypes: float64(3), object(3)\n",
      "memory usage: 14.0+ KB\n"
     ]
    }
   ],
   "source": [
    "df.info()"
   ],
   "metadata": {
    "collapsed": false,
    "ExecuteTime": {
     "end_time": "2023-11-30T10:00:34.743895200Z",
     "start_time": "2023-11-30T10:00:34.719894300Z"
    }
   }
  },
  {
   "cell_type": "code",
   "execution_count": 271,
   "outputs": [
    {
     "data": {
      "text/plain": "0"
     },
     "execution_count": 271,
     "metadata": {},
     "output_type": "execute_result"
    }
   ],
   "source": [
    "# check if there is duplicated rows or missing values\n",
    "df.duplicated().sum()"
   ],
   "metadata": {
    "collapsed": false,
    "ExecuteTime": {
     "end_time": "2023-11-30T10:00:34.767899700Z",
     "start_time": "2023-11-30T10:00:34.737894200Z"
    }
   }
  },
  {
   "cell_type": "code",
   "execution_count": 272,
   "outputs": [
    {
     "data": {
      "text/plain": "Temperature    0\nHumidity       0\nRainfall       0\nSoil           0\nCrop           0\nFertilizer     0\ndtype: int64"
     },
     "execution_count": 272,
     "metadata": {},
     "output_type": "execute_result"
    }
   ],
   "source": [
    "df.isna().sum()"
   ],
   "metadata": {
    "collapsed": false,
    "ExecuteTime": {
     "end_time": "2023-11-30T10:00:34.812896Z",
     "start_time": "2023-11-30T10:00:34.753907900Z"
    }
   }
  },
  {
   "cell_type": "code",
   "execution_count": 273,
   "outputs": [
    {
     "name": "stdout",
     "output_type": "stream",
     "text": [
      "Soil ['Clayey' 'laterite' 'silty clay' 'sandy' 'coastal' 'clay loam' 'alluvial']\n",
      "Crop ['rice' 'Coconut']\n",
      "Fertilizer ['DAP' 'Good NPK' 'MOP' 'Urea']\n"
     ]
    }
   ],
   "source": [
    "for col in df.select_dtypes('object').columns:\n",
    "    print(col, df[col].unique())"
   ],
   "metadata": {
    "collapsed": false,
    "ExecuteTime": {
     "end_time": "2023-11-30T10:00:34.853905700Z",
     "start_time": "2023-11-30T10:00:34.767899700Z"
    }
   }
  },
  {
   "cell_type": "markdown",
   "source": [
    "we choose soil as out items because it has the unique values"
   ],
   "metadata": {
    "collapsed": false
   }
  },
  {
   "cell_type": "code",
   "execution_count": 274,
   "outputs": [],
   "source": [
    "def discretize_equal_width(input_df, column, *, n_bins=0):\n",
    "    input_df = input_df.copy()\n",
    "    sorted_data = input_df[column].sort_values()\n",
    "    if n_bins == 0:\n",
    "        n_bins =  int(1 + (10 / 3) * math.log10(len(sorted_data)))\n",
    "    ranges = np.linspace(sorted_data.min(), sorted_data.max(), n_bins + 1)\n",
    "    labels = [f'{ranges[i]:.2f} - {ranges[i+1]:.2f}' for i in range(n_bins)]\n",
    "    current_bin = 0\n",
    "    class_column = []\n",
    "    for i, row_temp in enumerate(sorted_data):\n",
    "        if row_temp > ranges[current_bin + 1]:\n",
    "            current_bin += 1\n",
    "        class_column.append(labels[current_bin])\n",
    "    input_df['class'] = class_column\n",
    "    input_df.drop(columns=[column], inplace=True)\n",
    "    return input_df\n"
   ],
   "metadata": {
    "collapsed": false,
    "ExecuteTime": {
     "end_time": "2023-11-30T10:00:34.868919200Z",
     "start_time": "2023-11-30T10:00:34.784895300Z"
    }
   }
  },
  {
   "cell_type": "code",
   "execution_count": 275,
   "outputs": [],
   "source": [
    "df_width = discretize_equal_width(df, 'Temperature')"
   ],
   "metadata": {
    "collapsed": false,
    "ExecuteTime": {
     "end_time": "2023-11-30T10:00:34.868919200Z",
     "start_time": "2023-11-30T10:00:34.799899Z"
    }
   }
  },
  {
   "cell_type": "code",
   "execution_count": 276,
   "outputs": [],
   "source": [
    "def plot_classes(input_df):\n",
    "    sns.countplot(x='class', data=input_df)\n",
    "    plt.xticks(rotation=45)\n",
    "    plt.xlabel('classes')\n",
    "    plt.ylabel('Count')\n",
    "    plt.title('class distribution')\n",
    "    plt.show()"
   ],
   "metadata": {
    "collapsed": false,
    "ExecuteTime": {
     "end_time": "2023-11-30T10:00:34.913451100Z",
     "start_time": "2023-11-30T10:00:34.813894200Z"
    }
   }
  },
  {
   "cell_type": "code",
   "execution_count": 277,
   "outputs": [
    {
     "data": {
      "text/plain": "<Figure size 640x480 with 1 Axes>",
      "image/png": "[encoded data removed]"
     },
     "metadata": {},
     "output_type": "display_data"
    }
   ],
   "source": [
    "plot_classes(df_width)"
   ],
   "metadata": {
    "collapsed": false,
    "ExecuteTime": {
     "end_time": "2023-11-30T10:00:35.030443700Z",
     "start_time": "2023-11-30T10:00:34.830896300Z"
    }
   }
  },
  {
   "cell_type": "code",
   "execution_count": 278,
   "outputs": [],
   "source": [
    "def discretize_equal_freq(input_df, column, *, n_bins=0):\n",
    "    input_df = input_df.copy()\n",
    "\n",
    "    if n_bins == 0:\n",
    "        n_bins = int(1 + (10 / 3) * math.log10(len(input_df[column])))\n",
    "\n",
    "    sorted_values = sorted(input_df[column])\n",
    "\n",
    "    bin_edges = [sorted_values[i * len(sorted_values) // n_bins] for i in range(n_bins)]\n",
    "    bin_edges.append(sorted_values[-1])  # Include the maximum value\n",
    "    print(bin_edges)\n",
    "    labels = [str(i) for i in range(1, n_bins + 1)]\n",
    "\n",
    "    discrete_column = []\n",
    "    current_bin = 0\n",
    "\n",
    "    for i, value in enumerate(sorted_values):\n",
    "        if value > bin_edges[current_bin + 1]:\n",
    "            current_bin += 1\n",
    "        discrete_column.append(labels[current_bin])\n",
    "\n",
    "    input_df['class'] = discrete_column\n",
    "\n",
    "    return input_df"
   ],
   "metadata": {
    "collapsed": false,
    "ExecuteTime": {
     "end_time": "2023-11-30T10:00:35.035443100Z",
     "start_time": "2023-11-30T10:00:35.028441500Z"
    }
   }
  },
  {
   "cell_type": "code",
   "execution_count": 279,
   "outputs": [
    {
     "name": "stdout",
     "output_type": "stream",
     "text": [
      "[20.05, 21.84, 23.45, 24.87, 25.55, 26.11, 26.76, 27.56, 28.74, 29.87]\n"
     ]
    }
   ],
   "source": [
    "df_freq = discretize_equal_freq(df, 'Temperature')"
   ],
   "metadata": {
    "collapsed": false,
    "ExecuteTime": {
     "end_time": "2023-11-30T10:00:35.048441400Z",
     "start_time": "2023-11-30T10:00:35.035443100Z"
    }
   }
  },
  {
   "cell_type": "code",
   "execution_count": 280,
   "outputs": [
    {
     "data": {
      "text/plain": "<Figure size 640x480 with 1 Axes>",
      "image/png": "[encoded data removed]"
     },
     "metadata": {},
     "output_type": "display_data"
    }
   ],
   "source": [
    "plot_classes(df_freq)"
   ],
   "metadata": {
    "collapsed": false,
    "ExecuteTime": {
     "end_time": "2023-11-30T10:00:35.218443900Z",
     "start_time": "2023-11-30T10:00:35.048441400Z"
    }
   }
  },
  {
   "cell_type": "code",
   "execution_count": 280,
   "outputs": [],
   "source": [],
   "metadata": {
    "collapsed": false,
    "ExecuteTime": {
     "end_time": "2023-11-30T10:00:35.240585600Z",
     "start_time": "2023-11-30T10:00:35.219444400Z"
    }
   }
  }
 ],
 "metadata": {
  "kernelspec": {
   "display_name": "Python 3",
   "language": "python",
   "name": "python3"
  },
  "language_info": {
   "codemirror_mode": {
    "name": "ipython",
    "version": 2
   },
   "file_extension": ".py",
   "mimetype": "text/x-python",
   "name": "python",
   "nbconvert_exporter": "python",
   "pygments_lexer": "ipython2",
   "version": "2.7.6"
  }
 },
 "nbformat": 4,
 "nbformat_minor": 0
}
