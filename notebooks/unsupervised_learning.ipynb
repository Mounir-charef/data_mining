{
 "cells": [
  {
   "cell_type": "code",
   "execution_count": 1,
   "metadata": {
    "collapsed": true,
    "ExecuteTime": {
     "end_time": "2023-12-29T18:02:30.180238Z",
     "start_time": "2023-12-29T18:02:29.932076100Z"
    }
   },
   "outputs": [],
   "source": [
    "from models import KMeans\n",
    "from models.utils import strategies\n",
    "import pandas as pd\n",
    "from models.metrics import Metric, Average\n",
    "from models.model_selection import train_test_split, evaluate, kmeans_elbow\n",
    "from typing import get_args\n",
    "import seaborn as sns\n",
    "\n",
    "sns.set_theme(style=\"whitegrid\")"
   ]
  },
  {
   "cell_type": "markdown",
   "source": [
    "# Load data"
   ],
   "metadata": {
    "collapsed": false
   }
  },
  {
   "cell_type": "code",
   "execution_count": 2,
   "outputs": [
    {
     "data": {
      "text/plain": "            N         P         K        pH        EC        OC         S  \\\n0   -1.551804 -0.091098  0.521393 -0.066513  0.535760  0.366969 -0.322992   \n1   -0.514221 -0.466324 -1.354331  0.682937  1.459280  1.579355  0.361963   \n2   -1.205943  0.250017  1.856369  0.542415 -0.245679  1.747741  0.050446   \n3   -1.288950 -0.705105 -0.196789  0.776619  0.251601  1.175226  0.361963   \n4    0.274342  0.352352 -0.458715  0.729778 -1.027119  0.905807  2.163555   \n..        ...       ...       ...       ...       ...       ...       ...   \n873  1.394931  0.625244  1.053694  2.275519 -0.245679 -1.013802  0.241749   \n874  0.191335  0.045348 -0.103848 -1.097006 -0.529839 -1.653672 -1.157460   \n875  0.357348  0.113571 -1.083956  0.682937  0.535760 -0.340255 -0.011120   \n876  0.966063  1.682700 -0.906523 -0.441238  0.748880  1.613032 -0.521073   \n877  0.191335  0.488798 -0.196789  0.074009  1.388240  0.973162  1.640959   \n\n           Zn        Fe        Cu        Mn         B        OM  Fertility  \n0   -1.155578 -1.437858 -0.389002  0.066270 -1.616350  0.366969        0.0  \n1   -0.651246 -1.227329  1.281175 -1.424239  0.926065  1.579355        0.0  \n2   -0.651246 -1.227329  1.346247 -1.472898  0.926065  1.747741        0.0  \n3   -0.315025 -1.349819  1.259485 -1.485703  0.926065  1.175226        0.0  \n4   -1.071523 -1.265607  1.606534 -1.542045  0.926065  0.905807        1.0  \n..        ...       ...       ...       ...       ...       ...        ...  \n873 -0.146914  0.238713 -0.562527  0.660424  1.480647 -1.013802        1.0  \n874 -0.230970  1.605233 -1.083102 -0.120684 -0.067852 -1.653672        1.0  \n875  0.357418 -0.189999 -0.692671 -0.504836 -0.495024 -0.340255        1.0  \n876  1.702303  0.196607  0.153263  1.228969  0.626303  1.613032        2.0  \n877  0.609584  1.260732  1.996966  0.557984  1.160268  0.973162        0.0  \n\n[878 rows x 14 columns]",
      "text/html": "<div>\n<style scoped>\n    .dataframe tbody tr th:only-of-type {\n        vertical-align: middle;\n    }\n\n    .dataframe tbody tr th {\n        vertical-align: top;\n    }\n\n    .dataframe thead th {\n        text-align: right;\n    }\n</style>\n<table border=\"1\" class=\"dataframe\">\n  <thead>\n    <tr style=\"text-align: right;\">\n      <th></th>\n      <th>N</th>\n      <th>P</th>\n      <th>K</th>\n      <th>pH</th>\n      <th>EC</th>\n      <th>OC</th>\n      <th>S</th>\n      <th>Zn</th>\n      <th>Fe</th>\n      <th>Cu</th>\n      <th>Mn</th>\n      <th>B</th>\n      <th>OM</th>\n      <th>Fertility</th>\n    </tr>\n  </thead>\n  <tbody>\n    <tr>\n      <th>0</th>\n      <td>-1.551804</td>\n      <td>-0.091098</td>\n      <td>0.521393</td>\n      <td>-0.066513</td>\n      <td>0.535760</td>\n      <td>0.366969</td>\n      <td>-0.322992</td>\n      <td>-1.155578</td>\n      <td>-1.437858</td>\n      <td>-0.389002</td>\n      <td>0.066270</td>\n      <td>-1.616350</td>\n      <td>0.366969</td>\n      <td>0.0</td>\n    </tr>\n    <tr>\n      <th>1</th>\n      <td>-0.514221</td>\n      <td>-0.466324</td>\n      <td>-1.354331</td>\n      <td>0.682937</td>\n      <td>1.459280</td>\n      <td>1.579355</td>\n      <td>0.361963</td>\n      <td>-0.651246</td>\n      <td>-1.227329</td>\n      <td>1.281175</td>\n      <td>-1.424239</td>\n      <td>0.926065</td>\n      <td>1.579355</td>\n      <td>0.0</td>\n    </tr>\n    <tr>\n      <th>2</th>\n      <td>-1.205943</td>\n      <td>0.250017</td>\n      <td>1.856369</td>\n      <td>0.542415</td>\n      <td>-0.245679</td>\n      <td>1.747741</td>\n      <td>0.050446</td>\n      <td>-0.651246</td>\n      <td>-1.227329</td>\n      <td>1.346247</td>\n      <td>-1.472898</td>\n      <td>0.926065</td>\n      <td>1.747741</td>\n      <td>0.0</td>\n    </tr>\n    <tr>\n      <th>3</th>\n      <td>-1.288950</td>\n      <td>-0.705105</td>\n      <td>-0.196789</td>\n      <td>0.776619</td>\n      <td>0.251601</td>\n      <td>1.175226</td>\n      <td>0.361963</td>\n      <td>-0.315025</td>\n      <td>-1.349819</td>\n      <td>1.259485</td>\n      <td>-1.485703</td>\n      <td>0.926065</td>\n      <td>1.175226</td>\n      <td>0.0</td>\n    </tr>\n    <tr>\n      <th>4</th>\n      <td>0.274342</td>\n      <td>0.352352</td>\n      <td>-0.458715</td>\n      <td>0.729778</td>\n      <td>-1.027119</td>\n      <td>0.905807</td>\n      <td>2.163555</td>\n      <td>-1.071523</td>\n      <td>-1.265607</td>\n      <td>1.606534</td>\n      <td>-1.542045</td>\n      <td>0.926065</td>\n      <td>0.905807</td>\n      <td>1.0</td>\n    </tr>\n    <tr>\n      <th>...</th>\n      <td>...</td>\n      <td>...</td>\n      <td>...</td>\n      <td>...</td>\n      <td>...</td>\n      <td>...</td>\n      <td>...</td>\n      <td>...</td>\n      <td>...</td>\n      <td>...</td>\n      <td>...</td>\n      <td>...</td>\n      <td>...</td>\n      <td>...</td>\n    </tr>\n    <tr>\n      <th>873</th>\n      <td>1.394931</td>\n      <td>0.625244</td>\n      <td>1.053694</td>\n      <td>2.275519</td>\n      <td>-0.245679</td>\n      <td>-1.013802</td>\n      <td>0.241749</td>\n      <td>-0.146914</td>\n      <td>0.238713</td>\n      <td>-0.562527</td>\n      <td>0.660424</td>\n      <td>1.480647</td>\n      <td>-1.013802</td>\n      <td>1.0</td>\n    </tr>\n    <tr>\n      <th>874</th>\n      <td>0.191335</td>\n      <td>0.045348</td>\n      <td>-0.103848</td>\n      <td>-1.097006</td>\n      <td>-0.529839</td>\n      <td>-1.653672</td>\n      <td>-1.157460</td>\n      <td>-0.230970</td>\n      <td>1.605233</td>\n      <td>-1.083102</td>\n      <td>-0.120684</td>\n      <td>-0.067852</td>\n      <td>-1.653672</td>\n      <td>1.0</td>\n    </tr>\n    <tr>\n      <th>875</th>\n      <td>0.357348</td>\n      <td>0.113571</td>\n      <td>-1.083956</td>\n      <td>0.682937</td>\n      <td>0.535760</td>\n      <td>-0.340255</td>\n      <td>-0.011120</td>\n      <td>0.357418</td>\n      <td>-0.189999</td>\n      <td>-0.692671</td>\n      <td>-0.504836</td>\n      <td>-0.495024</td>\n      <td>-0.340255</td>\n      <td>1.0</td>\n    </tr>\n    <tr>\n      <th>876</th>\n      <td>0.966063</td>\n      <td>1.682700</td>\n      <td>-0.906523</td>\n      <td>-0.441238</td>\n      <td>0.748880</td>\n      <td>1.613032</td>\n      <td>-0.521073</td>\n      <td>1.702303</td>\n      <td>0.196607</td>\n      <td>0.153263</td>\n      <td>1.228969</td>\n      <td>0.626303</td>\n      <td>1.613032</td>\n      <td>2.0</td>\n    </tr>\n    <tr>\n      <th>877</th>\n      <td>0.191335</td>\n      <td>0.488798</td>\n      <td>-0.196789</td>\n      <td>0.074009</td>\n      <td>1.388240</td>\n      <td>0.973162</td>\n      <td>1.640959</td>\n      <td>0.609584</td>\n      <td>1.260732</td>\n      <td>1.996966</td>\n      <td>0.557984</td>\n      <td>1.160268</td>\n      <td>0.973162</td>\n      <td>0.0</td>\n    </tr>\n  </tbody>\n</table>\n<p>878 rows × 14 columns</p>\n</div>"
     },
     "execution_count": 2,
     "metadata": {},
     "output_type": "execute_result"
    }
   ],
   "source": [
    "df = pd.read_csv('../data/processed_dataset1.csv')\n",
    "df"
   ],
   "metadata": {
    "collapsed": false,
    "ExecuteTime": {
     "end_time": "2023-12-29T18:02:30.215750900Z",
     "start_time": "2023-12-29T18:02:30.181240100Z"
    }
   }
  },
  {
   "cell_type": "code",
   "execution_count": 3,
   "outputs": [],
   "source": [
    "target_column = 'Fertility'"
   ],
   "metadata": {
    "collapsed": false,
    "ExecuteTime": {
     "end_time": "2023-12-29T18:02:30.262789900Z",
     "start_time": "2023-12-29T18:02:30.211738500Z"
    }
   }
  },
  {
   "cell_type": "code",
   "execution_count": 4,
   "outputs": [],
   "source": [
    "Y = df[target_column]\n",
    "X = df.drop(target_column, axis=1)"
   ],
   "metadata": {
    "collapsed": false,
    "ExecuteTime": {
     "end_time": "2023-12-29T18:02:30.287601300Z",
     "start_time": "2023-12-29T18:02:30.229739200Z"
    }
   }
  },
  {
   "cell_type": "code",
   "execution_count": 5,
   "outputs": [],
   "source": [
    "# for current_type in PlotType:\n",
    "#     plot(X, plot_type=current_type)"
   ],
   "metadata": {
    "collapsed": false,
    "ExecuteTime": {
     "end_time": "2023-12-29T18:02:30.287601300Z",
     "start_time": "2023-12-29T18:02:30.246790800Z"
    }
   }
  },
  {
   "cell_type": "code",
   "execution_count": 6,
   "outputs": [
    {
     "name": "stdout",
     "output_type": "stream",
     "text": [
      "(702, 13) (176, 13) (702,) (176,)\n"
     ]
    }
   ],
   "source": [
    "X_train, X_test, Y_train, Y_test = train_test_split(X, Y, test_size=0.2)\n",
    "print(X_train.shape, X_test.shape, Y_train.shape, Y_test.shape)"
   ],
   "metadata": {
    "collapsed": false,
    "ExecuteTime": {
     "end_time": "2023-12-29T18:02:30.288601200Z",
     "start_time": "2023-12-29T18:02:30.261790600Z"
    }
   }
  },
  {
   "cell_type": "markdown",
   "source": [
    "# 1. Kmeans"
   ],
   "metadata": {
    "collapsed": false
   }
  },
  {
   "cell_type": "code",
   "execution_count": 10,
   "outputs": [
    {
     "name": "stderr",
     "output_type": "stream",
     "text": [
      "100%|██████████| 5/5 [00:14<00:00,  2.96s/it]\n"
     ]
    },
    {
     "data": {
      "text/plain": "<Figure size 640x480 with 1 Axes>",
      "image/png": "[encoded data removed]"
     },
     "metadata": {},
     "output_type": "display_data"
    }
   ],
   "source": [
    "kmeans_elbow(X.to_numpy(), k_range=range(2, 7), strategy='euclidean')"
   ],
   "metadata": {
    "collapsed": false,
    "ExecuteTime": {
     "end_time": "2023-12-29T18:07:06.378768900Z",
     "start_time": "2023-12-29T18:06:51.422228500Z"
    }
   }
  },
  {
   "cell_type": "markdown",
   "source": [
    "- we can see that the best number of clusters is 3"
   ],
   "metadata": {
    "collapsed": false
   }
  },
  {
   "cell_type": "code",
   "execution_count": null,
   "outputs": [],
   "source": [
    "kmeans = KMeans(num_clusters=3, max_iter=100)"
   ],
   "metadata": {
    "collapsed": false
   }
  },
  {
   "cell_type": "code",
   "execution_count": null,
   "outputs": [],
   "source": [
    "kmeans.fit(X_train)\n",
    "kmeans.labels_"
   ],
   "metadata": {
    "collapsed": false
   }
  },
  {
   "cell_type": "code",
   "execution_count": null,
   "outputs": [],
   "source": [
    "kmeans.predict(X_test)"
   ],
   "metadata": {
    "collapsed": false
   }
  },
  {
   "cell_type": "code",
   "execution_count": null,
   "outputs": [],
   "source": [
    "kmeans.plot(X_train)"
   ],
   "metadata": {
    "collapsed": false
   }
  },
  {
   "cell_type": "code",
   "execution_count": null,
   "outputs": [],
   "source": [
    "models = [KMeans(num_clusters=3, max_iter=100) for strategy in strategies]\n",
    "models"
   ],
   "metadata": {
    "collapsed": false
   }
  },
  {
   "cell_type": "code",
   "execution_count": null,
   "outputs": [],
   "source": [
    "averages = list(get_args(Average))\n",
    "averages.remove('binary')\n",
    "averages"
   ],
   "metadata": {
    "collapsed": false
   }
  },
  {
   "cell_type": "code",
   "execution_count": null,
   "outputs": [],
   "source": [
    "evaluate(X_train, Y_train, X_test, Y_test, models, get_args(Metric), averages)"
   ],
   "metadata": {
    "collapsed": false
   }
  }
 ],
 "metadata": {
  "kernelspec": {
   "display_name": "Python 3",
   "language": "python",
   "name": "python3"
  },
  "language_info": {
   "codemirror_mode": {
    "name": "ipython",
    "version": 2
   },
   "file_extension": ".py",
   "mimetype": "text/x-python",
   "name": "python",
   "nbconvert_exporter": "python",
   "pygments_lexer": "ipython2",
   "version": "2.7.6"
  }
 },
 "nbformat": 4,
 "nbformat_minor": 0
}
