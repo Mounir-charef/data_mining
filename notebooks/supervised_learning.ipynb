{
 "cells": [
  {
   "cell_type": "code",
   "execution_count": 1,
   "metadata": {
    "collapsed": true,
    "ExecuteTime": {
     "end_time": "2023-12-28T17:37:09.395392300Z",
     "start_time": "2023-12-28T17:37:07.868255600Z"
    }
   },
   "outputs": [],
   "source": [
    "from models import KNN, DecisionTree, preprocessing, RandomForest\n",
    "from models.utils import strategies\n",
    "import pandas as pd\n",
    "from sklearn.model_selection import train_test_split\n",
    "from models.metrics import Metric, metric_functions, Average\n",
    "from typing import get_args\n",
    "import warnings\n",
    "warnings.filterwarnings('ignore')"
   ]
  },
  {
   "cell_type": "markdown",
   "source": [
    "# load data"
   ],
   "metadata": {
    "collapsed": false
   }
  },
  {
   "cell_type": "code",
   "execution_count": 2,
   "outputs": [
    {
     "data": {
      "text/plain": "       N     P    K    pH    EC    OC      S    Zn    Fe    Cu     Mn     B  \\\n0    138   8.6  560  7.46  0.62  0.70   5.90  0.24  0.31  0.77   8.71  0.11   \n1    213   7.5  338  7.62  0.75  1.06  25.40  0.30  0.86  1.54   2.89  2.29   \n2    163   9.6  718  7.59  0.51  1.11  14.30  0.30  0.86  1.57   2.70  2.03   \n3    157   6.8  475  7.64  0.58  0.94  26.00  0.34  0.54  1.53   2.65  1.82   \n4    270   9.9  444  7.63  0.40  0.86  11.80  0.25  0.76  1.69   2.43  2.26   \n..   ...   ...  ...   ...   ...   ...    ...   ...   ...   ...    ...   ...   \n880  276   9.2  370  7.62  0.62  0.49   6.64  0.42  3.57  0.63   6.48  0.32   \n881  320  13.8  391  7.38  0.65  1.07   5.43  0.58  4.58  1.02  13.25  0.53   \n882  264  10.3  475  7.49  0.74  0.88  10.56  0.45  7.36  1.87  10.63  0.63   \n883  220   8.6  444  7.43  0.65  0.72  11.70  0.37  0.66  0.90   2.19  1.82   \n884  270   8.1  655  7.45  0.55  0.67  10.20  0.28  0.44  1.26   7.75  2.56   \n\n         OM  Fertility  \n0    1.2040          0  \n1    1.8232          0  \n2    1.9092          0  \n3    1.6168          0  \n4    1.4792          1  \n..      ...        ...  \n880  0.8428          1  \n881  1.8404          2  \n882  1.5136          0  \n883  1.2384          0  \n884  1.1524          1  \n\n[885 rows x 14 columns]",
      "text/html": "<div>\n<style scoped>\n    .dataframe tbody tr th:only-of-type {\n        vertical-align: middle;\n    }\n\n    .dataframe tbody tr th {\n        vertical-align: top;\n    }\n\n    .dataframe thead th {\n        text-align: right;\n    }\n</style>\n<table border=\"1\" class=\"dataframe\">\n  <thead>\n    <tr style=\"text-align: right;\">\n      <th></th>\n      <th>N</th>\n      <th>P</th>\n      <th>K</th>\n      <th>pH</th>\n      <th>EC</th>\n      <th>OC</th>\n      <th>S</th>\n      <th>Zn</th>\n      <th>Fe</th>\n      <th>Cu</th>\n      <th>Mn</th>\n      <th>B</th>\n      <th>OM</th>\n      <th>Fertility</th>\n    </tr>\n  </thead>\n  <tbody>\n    <tr>\n      <th>0</th>\n      <td>138</td>\n      <td>8.6</td>\n      <td>560</td>\n      <td>7.46</td>\n      <td>0.62</td>\n      <td>0.70</td>\n      <td>5.90</td>\n      <td>0.24</td>\n      <td>0.31</td>\n      <td>0.77</td>\n      <td>8.71</td>\n      <td>0.11</td>\n      <td>1.2040</td>\n      <td>0</td>\n    </tr>\n    <tr>\n      <th>1</th>\n      <td>213</td>\n      <td>7.5</td>\n      <td>338</td>\n      <td>7.62</td>\n      <td>0.75</td>\n      <td>1.06</td>\n      <td>25.40</td>\n      <td>0.30</td>\n      <td>0.86</td>\n      <td>1.54</td>\n      <td>2.89</td>\n      <td>2.29</td>\n      <td>1.8232</td>\n      <td>0</td>\n    </tr>\n    <tr>\n      <th>2</th>\n      <td>163</td>\n      <td>9.6</td>\n      <td>718</td>\n      <td>7.59</td>\n      <td>0.51</td>\n      <td>1.11</td>\n      <td>14.30</td>\n      <td>0.30</td>\n      <td>0.86</td>\n      <td>1.57</td>\n      <td>2.70</td>\n      <td>2.03</td>\n      <td>1.9092</td>\n      <td>0</td>\n    </tr>\n    <tr>\n      <th>3</th>\n      <td>157</td>\n      <td>6.8</td>\n      <td>475</td>\n      <td>7.64</td>\n      <td>0.58</td>\n      <td>0.94</td>\n      <td>26.00</td>\n      <td>0.34</td>\n      <td>0.54</td>\n      <td>1.53</td>\n      <td>2.65</td>\n      <td>1.82</td>\n      <td>1.6168</td>\n      <td>0</td>\n    </tr>\n    <tr>\n      <th>4</th>\n      <td>270</td>\n      <td>9.9</td>\n      <td>444</td>\n      <td>7.63</td>\n      <td>0.40</td>\n      <td>0.86</td>\n      <td>11.80</td>\n      <td>0.25</td>\n      <td>0.76</td>\n      <td>1.69</td>\n      <td>2.43</td>\n      <td>2.26</td>\n      <td>1.4792</td>\n      <td>1</td>\n    </tr>\n    <tr>\n      <th>...</th>\n      <td>...</td>\n      <td>...</td>\n      <td>...</td>\n      <td>...</td>\n      <td>...</td>\n      <td>...</td>\n      <td>...</td>\n      <td>...</td>\n      <td>...</td>\n      <td>...</td>\n      <td>...</td>\n      <td>...</td>\n      <td>...</td>\n      <td>...</td>\n    </tr>\n    <tr>\n      <th>880</th>\n      <td>276</td>\n      <td>9.2</td>\n      <td>370</td>\n      <td>7.62</td>\n      <td>0.62</td>\n      <td>0.49</td>\n      <td>6.64</td>\n      <td>0.42</td>\n      <td>3.57</td>\n      <td>0.63</td>\n      <td>6.48</td>\n      <td>0.32</td>\n      <td>0.8428</td>\n      <td>1</td>\n    </tr>\n    <tr>\n      <th>881</th>\n      <td>320</td>\n      <td>13.8</td>\n      <td>391</td>\n      <td>7.38</td>\n      <td>0.65</td>\n      <td>1.07</td>\n      <td>5.43</td>\n      <td>0.58</td>\n      <td>4.58</td>\n      <td>1.02</td>\n      <td>13.25</td>\n      <td>0.53</td>\n      <td>1.8404</td>\n      <td>2</td>\n    </tr>\n    <tr>\n      <th>882</th>\n      <td>264</td>\n      <td>10.3</td>\n      <td>475</td>\n      <td>7.49</td>\n      <td>0.74</td>\n      <td>0.88</td>\n      <td>10.56</td>\n      <td>0.45</td>\n      <td>7.36</td>\n      <td>1.87</td>\n      <td>10.63</td>\n      <td>0.63</td>\n      <td>1.5136</td>\n      <td>0</td>\n    </tr>\n    <tr>\n      <th>883</th>\n      <td>220</td>\n      <td>8.6</td>\n      <td>444</td>\n      <td>7.43</td>\n      <td>0.65</td>\n      <td>0.72</td>\n      <td>11.70</td>\n      <td>0.37</td>\n      <td>0.66</td>\n      <td>0.90</td>\n      <td>2.19</td>\n      <td>1.82</td>\n      <td>1.2384</td>\n      <td>0</td>\n    </tr>\n    <tr>\n      <th>884</th>\n      <td>270</td>\n      <td>8.1</td>\n      <td>655</td>\n      <td>7.45</td>\n      <td>0.55</td>\n      <td>0.67</td>\n      <td>10.20</td>\n      <td>0.28</td>\n      <td>0.44</td>\n      <td>1.26</td>\n      <td>7.75</td>\n      <td>2.56</td>\n      <td>1.1524</td>\n      <td>1</td>\n    </tr>\n  </tbody>\n</table>\n<p>885 rows × 14 columns</p>\n</div>"
     },
     "execution_count": 2,
     "metadata": {},
     "output_type": "execute_result"
    }
   ],
   "source": [
    "# Load data\n",
    "data = pd.read_csv('../data/Dataset1.csv')\n",
    "data"
   ],
   "metadata": {
    "collapsed": false,
    "ExecuteTime": {
     "end_time": "2023-12-28T17:37:09.435777800Z",
     "start_time": "2023-12-28T17:37:09.395392300Z"
    }
   }
  },
  {
   "cell_type": "code",
   "execution_count": 3,
   "outputs": [
    {
     "data": {
      "text/plain": "                N            K          pH          EC          OC  \\\ncount  885.000000   885.000000  885.000000  885.000000  884.000000   \nmean   246.997740   501.338983    7.511955    0.543921    0.617817   \nstd     77.359316   129.104610    0.464577    0.141324    0.841123   \nmin      6.000000    11.000000    0.900000    0.100000    0.100000   \n25%    201.000000   412.000000    7.350000    0.430000    0.380000   \n50%    257.000000   475.000000    7.500000    0.550000    0.590000   \n75%    307.000000   581.000000    7.630000    0.640000    0.780000   \nmax    383.000000  1560.000000   11.150000    0.950000   24.000000   \n\n                S          Zn          Fe          Cu          Mn           B  \\\ncount  885.000000  885.000000  885.000000  884.000000  885.000000  885.000000   \nmean     7.545808    0.468723    4.126757    0.952002    8.653616    0.593424   \nstd      4.418087    1.888892    3.108088    0.465527    4.300963    0.574736   \nmin      0.640000    0.070000    0.210000    0.090000    0.110000    0.060000   \n25%      4.700000    0.280000    2.050000    0.630000    6.210000    0.270000   \n50%      6.640000    0.360000    3.560000    0.930000    8.340000    0.410000   \n75%      8.750000    0.470000    6.320000    1.250000   11.470000    0.610000   \nmax     31.000000   42.000000   44.000000    3.020000   31.000000    2.820000   \n\n               OM   Fertility  \ncount  885.000000  885.000000  \nmean     1.063718    0.592090  \nstd      1.446265    0.578405  \nmin      0.172000    0.000000  \n25%      0.653600    0.000000  \n50%      1.014800    1.000000  \n75%      1.341600    1.000000  \nmax     41.280000    2.000000  ",
      "text/html": "<div>\n<style scoped>\n    .dataframe tbody tr th:only-of-type {\n        vertical-align: middle;\n    }\n\n    .dataframe tbody tr th {\n        vertical-align: top;\n    }\n\n    .dataframe thead th {\n        text-align: right;\n    }\n</style>\n<table border=\"1\" class=\"dataframe\">\n  <thead>\n    <tr style=\"text-align: right;\">\n      <th></th>\n      <th>N</th>\n      <th>K</th>\n      <th>pH</th>\n      <th>EC</th>\n      <th>OC</th>\n      <th>S</th>\n      <th>Zn</th>\n      <th>Fe</th>\n      <th>Cu</th>\n      <th>Mn</th>\n      <th>B</th>\n      <th>OM</th>\n      <th>Fertility</th>\n    </tr>\n  </thead>\n  <tbody>\n    <tr>\n      <th>count</th>\n      <td>885.000000</td>\n      <td>885.000000</td>\n      <td>885.000000</td>\n      <td>885.000000</td>\n      <td>884.000000</td>\n      <td>885.000000</td>\n      <td>885.000000</td>\n      <td>885.000000</td>\n      <td>884.000000</td>\n      <td>885.000000</td>\n      <td>885.000000</td>\n      <td>885.000000</td>\n      <td>885.000000</td>\n    </tr>\n    <tr>\n      <th>mean</th>\n      <td>246.997740</td>\n      <td>501.338983</td>\n      <td>7.511955</td>\n      <td>0.543921</td>\n      <td>0.617817</td>\n      <td>7.545808</td>\n      <td>0.468723</td>\n      <td>4.126757</td>\n      <td>0.952002</td>\n      <td>8.653616</td>\n      <td>0.593424</td>\n      <td>1.063718</td>\n      <td>0.592090</td>\n    </tr>\n    <tr>\n      <th>std</th>\n      <td>77.359316</td>\n      <td>129.104610</td>\n      <td>0.464577</td>\n      <td>0.141324</td>\n      <td>0.841123</td>\n      <td>4.418087</td>\n      <td>1.888892</td>\n      <td>3.108088</td>\n      <td>0.465527</td>\n      <td>4.300963</td>\n      <td>0.574736</td>\n      <td>1.446265</td>\n      <td>0.578405</td>\n    </tr>\n    <tr>\n      <th>min</th>\n      <td>6.000000</td>\n      <td>11.000000</td>\n      <td>0.900000</td>\n      <td>0.100000</td>\n      <td>0.100000</td>\n      <td>0.640000</td>\n      <td>0.070000</td>\n      <td>0.210000</td>\n      <td>0.090000</td>\n      <td>0.110000</td>\n      <td>0.060000</td>\n      <td>0.172000</td>\n      <td>0.000000</td>\n    </tr>\n    <tr>\n      <th>25%</th>\n      <td>201.000000</td>\n      <td>412.000000</td>\n      <td>7.350000</td>\n      <td>0.430000</td>\n      <td>0.380000</td>\n      <td>4.700000</td>\n      <td>0.280000</td>\n      <td>2.050000</td>\n      <td>0.630000</td>\n      <td>6.210000</td>\n      <td>0.270000</td>\n      <td>0.653600</td>\n      <td>0.000000</td>\n    </tr>\n    <tr>\n      <th>50%</th>\n      <td>257.000000</td>\n      <td>475.000000</td>\n      <td>7.500000</td>\n      <td>0.550000</td>\n      <td>0.590000</td>\n      <td>6.640000</td>\n      <td>0.360000</td>\n      <td>3.560000</td>\n      <td>0.930000</td>\n      <td>8.340000</td>\n      <td>0.410000</td>\n      <td>1.014800</td>\n      <td>1.000000</td>\n    </tr>\n    <tr>\n      <th>75%</th>\n      <td>307.000000</td>\n      <td>581.000000</td>\n      <td>7.630000</td>\n      <td>0.640000</td>\n      <td>0.780000</td>\n      <td>8.750000</td>\n      <td>0.470000</td>\n      <td>6.320000</td>\n      <td>1.250000</td>\n      <td>11.470000</td>\n      <td>0.610000</td>\n      <td>1.341600</td>\n      <td>1.000000</td>\n    </tr>\n    <tr>\n      <th>max</th>\n      <td>383.000000</td>\n      <td>1560.000000</td>\n      <td>11.150000</td>\n      <td>0.950000</td>\n      <td>24.000000</td>\n      <td>31.000000</td>\n      <td>42.000000</td>\n      <td>44.000000</td>\n      <td>3.020000</td>\n      <td>31.000000</td>\n      <td>2.820000</td>\n      <td>41.280000</td>\n      <td>2.000000</td>\n    </tr>\n  </tbody>\n</table>\n</div>"
     },
     "execution_count": 3,
     "metadata": {},
     "output_type": "execute_result"
    }
   ],
   "source": [
    "data.describe()"
   ],
   "metadata": {
    "collapsed": false,
    "ExecuteTime": {
     "end_time": "2023-12-28T17:37:09.514397600Z",
     "start_time": "2023-12-28T17:37:09.423731400Z"
    }
   }
  },
  {
   "cell_type": "markdown",
   "source": [
    "# Data preprocessing"
   ],
   "metadata": {
    "collapsed": false
   }
  },
  {
   "cell_type": "code",
   "execution_count": 4,
   "outputs": [],
   "source": [
    "target = 'Fertility'"
   ],
   "metadata": {
    "collapsed": false,
    "ExecuteTime": {
     "end_time": "2023-12-28T17:37:09.541082600Z",
     "start_time": "2023-12-28T17:37:09.454257400Z"
    }
   }
  },
  {
   "cell_type": "code",
   "execution_count": 5,
   "outputs": [
    {
     "data": {
      "text/plain": "            N         P         K        pH        EC        OC         S  \\\n0   -1.551804 -0.091098  0.521393 -0.066513  0.535760  0.366969 -0.322992   \n1   -0.514221 -0.466324 -1.354331  0.682937  1.459280  1.579355  0.361963   \n2   -1.205943  0.250017  1.856369  0.542415 -0.245679  1.747741  0.050446   \n3   -1.288950 -0.705105 -0.196789  0.776619  0.251601  1.175226  0.361963   \n4    0.274342  0.352352 -0.458715  0.729778 -1.027119  0.905807  2.163555   \n..        ...       ...       ...       ...       ...       ...       ...   \n878  1.394931  0.625244  1.053694  2.275519 -0.245679 -1.013802  0.241749   \n879  0.191335  0.045348 -0.103848 -1.097006 -0.529839 -1.653672 -1.157460   \n880  0.357348  0.113571 -1.083956  0.682937  0.535760 -0.340255 -0.011120   \n881  0.966063  1.682700 -0.906523 -0.441238  0.748880  1.613032 -0.521073   \n882  0.191335  0.488798 -0.196789  0.074009  1.388240  0.973162  1.640959   \n\n           Zn        Fe        Cu        Mn         B        OM  \n0   -1.155578 -1.437858 -0.389002  0.066270 -1.616350  0.366969  \n1   -0.651246 -1.227329  1.281175 -1.424239  0.926065  1.579355  \n2   -0.651246 -1.227329  1.346247 -1.472898  0.926065  1.747741  \n3   -0.315025 -1.349819  1.259485 -1.485703  0.926065  1.175226  \n4   -1.071523 -1.265607  1.606534 -1.542045  0.926065  0.905807  \n..        ...       ...       ...       ...       ...       ...  \n878 -0.146914  0.238713 -0.562527  0.660424  1.480647 -1.013802  \n879 -0.230970  1.605233 -1.083102 -0.120684 -0.067852 -1.653672  \n880  0.357418 -0.189999 -0.692671 -0.504836 -0.495024 -0.340255  \n881  1.702303  0.196607  0.153263  1.228969  0.626303  1.613032  \n882  0.609584  1.260732  1.996966  0.557984  1.160268  0.973162  \n\n[878 rows x 13 columns]",
      "text/html": "<div>\n<style scoped>\n    .dataframe tbody tr th:only-of-type {\n        vertical-align: middle;\n    }\n\n    .dataframe tbody tr th {\n        vertical-align: top;\n    }\n\n    .dataframe thead th {\n        text-align: right;\n    }\n</style>\n<table border=\"1\" class=\"dataframe\">\n  <thead>\n    <tr style=\"text-align: right;\">\n      <th></th>\n      <th>N</th>\n      <th>P</th>\n      <th>K</th>\n      <th>pH</th>\n      <th>EC</th>\n      <th>OC</th>\n      <th>S</th>\n      <th>Zn</th>\n      <th>Fe</th>\n      <th>Cu</th>\n      <th>Mn</th>\n      <th>B</th>\n      <th>OM</th>\n    </tr>\n  </thead>\n  <tbody>\n    <tr>\n      <th>0</th>\n      <td>-1.551804</td>\n      <td>-0.091098</td>\n      <td>0.521393</td>\n      <td>-0.066513</td>\n      <td>0.535760</td>\n      <td>0.366969</td>\n      <td>-0.322992</td>\n      <td>-1.155578</td>\n      <td>-1.437858</td>\n      <td>-0.389002</td>\n      <td>0.066270</td>\n      <td>-1.616350</td>\n      <td>0.366969</td>\n    </tr>\n    <tr>\n      <th>1</th>\n      <td>-0.514221</td>\n      <td>-0.466324</td>\n      <td>-1.354331</td>\n      <td>0.682937</td>\n      <td>1.459280</td>\n      <td>1.579355</td>\n      <td>0.361963</td>\n      <td>-0.651246</td>\n      <td>-1.227329</td>\n      <td>1.281175</td>\n      <td>-1.424239</td>\n      <td>0.926065</td>\n      <td>1.579355</td>\n    </tr>\n    <tr>\n      <th>2</th>\n      <td>-1.205943</td>\n      <td>0.250017</td>\n      <td>1.856369</td>\n      <td>0.542415</td>\n      <td>-0.245679</td>\n      <td>1.747741</td>\n      <td>0.050446</td>\n      <td>-0.651246</td>\n      <td>-1.227329</td>\n      <td>1.346247</td>\n      <td>-1.472898</td>\n      <td>0.926065</td>\n      <td>1.747741</td>\n    </tr>\n    <tr>\n      <th>3</th>\n      <td>-1.288950</td>\n      <td>-0.705105</td>\n      <td>-0.196789</td>\n      <td>0.776619</td>\n      <td>0.251601</td>\n      <td>1.175226</td>\n      <td>0.361963</td>\n      <td>-0.315025</td>\n      <td>-1.349819</td>\n      <td>1.259485</td>\n      <td>-1.485703</td>\n      <td>0.926065</td>\n      <td>1.175226</td>\n    </tr>\n    <tr>\n      <th>4</th>\n      <td>0.274342</td>\n      <td>0.352352</td>\n      <td>-0.458715</td>\n      <td>0.729778</td>\n      <td>-1.027119</td>\n      <td>0.905807</td>\n      <td>2.163555</td>\n      <td>-1.071523</td>\n      <td>-1.265607</td>\n      <td>1.606534</td>\n      <td>-1.542045</td>\n      <td>0.926065</td>\n      <td>0.905807</td>\n    </tr>\n    <tr>\n      <th>...</th>\n      <td>...</td>\n      <td>...</td>\n      <td>...</td>\n      <td>...</td>\n      <td>...</td>\n      <td>...</td>\n      <td>...</td>\n      <td>...</td>\n      <td>...</td>\n      <td>...</td>\n      <td>...</td>\n      <td>...</td>\n      <td>...</td>\n    </tr>\n    <tr>\n      <th>878</th>\n      <td>1.394931</td>\n      <td>0.625244</td>\n      <td>1.053694</td>\n      <td>2.275519</td>\n      <td>-0.245679</td>\n      <td>-1.013802</td>\n      <td>0.241749</td>\n      <td>-0.146914</td>\n      <td>0.238713</td>\n      <td>-0.562527</td>\n      <td>0.660424</td>\n      <td>1.480647</td>\n      <td>-1.013802</td>\n    </tr>\n    <tr>\n      <th>879</th>\n      <td>0.191335</td>\n      <td>0.045348</td>\n      <td>-0.103848</td>\n      <td>-1.097006</td>\n      <td>-0.529839</td>\n      <td>-1.653672</td>\n      <td>-1.157460</td>\n      <td>-0.230970</td>\n      <td>1.605233</td>\n      <td>-1.083102</td>\n      <td>-0.120684</td>\n      <td>-0.067852</td>\n      <td>-1.653672</td>\n    </tr>\n    <tr>\n      <th>880</th>\n      <td>0.357348</td>\n      <td>0.113571</td>\n      <td>-1.083956</td>\n      <td>0.682937</td>\n      <td>0.535760</td>\n      <td>-0.340255</td>\n      <td>-0.011120</td>\n      <td>0.357418</td>\n      <td>-0.189999</td>\n      <td>-0.692671</td>\n      <td>-0.504836</td>\n      <td>-0.495024</td>\n      <td>-0.340255</td>\n    </tr>\n    <tr>\n      <th>881</th>\n      <td>0.966063</td>\n      <td>1.682700</td>\n      <td>-0.906523</td>\n      <td>-0.441238</td>\n      <td>0.748880</td>\n      <td>1.613032</td>\n      <td>-0.521073</td>\n      <td>1.702303</td>\n      <td>0.196607</td>\n      <td>0.153263</td>\n      <td>1.228969</td>\n      <td>0.626303</td>\n      <td>1.613032</td>\n    </tr>\n    <tr>\n      <th>882</th>\n      <td>0.191335</td>\n      <td>0.488798</td>\n      <td>-0.196789</td>\n      <td>0.074009</td>\n      <td>1.388240</td>\n      <td>0.973162</td>\n      <td>1.640959</td>\n      <td>0.609584</td>\n      <td>1.260732</td>\n      <td>1.996966</td>\n      <td>0.557984</td>\n      <td>1.160268</td>\n      <td>0.973162</td>\n    </tr>\n  </tbody>\n</table>\n<p>878 rows × 13 columns</p>\n</div>"
     },
     "execution_count": 5,
     "metadata": {},
     "output_type": "execute_result"
    }
   ],
   "source": [
    "X, Y = preprocessing.treat_data(data, target_column=target, normalization='z-score')\n",
    "X"
   ],
   "metadata": {
    "collapsed": false,
    "ExecuteTime": {
     "end_time": "2023-12-28T17:37:09.666968200Z",
     "start_time": "2023-12-28T17:37:09.471750Z"
    }
   }
  },
  {
   "cell_type": "code",
   "execution_count": 6,
   "outputs": [],
   "source": [
    "# for current_type in PlotType:\n",
    "#     plot(X, plot_type=current_type)"
   ],
   "metadata": {
    "collapsed": false,
    "ExecuteTime": {
     "end_time": "2023-12-28T17:37:09.666968200Z",
     "start_time": "2023-12-28T17:37:09.628327800Z"
    }
   }
  },
  {
   "cell_type": "code",
   "execution_count": 7,
   "outputs": [],
   "source": [
    "# save processed data\n",
    "processed_data = pd.concat([X, Y], axis=1)\n",
    "processed_data.to_csv('../data/processed_data.csv')"
   ],
   "metadata": {
    "collapsed": false,
    "ExecuteTime": {
     "end_time": "2023-12-28T17:37:09.673978700Z",
     "start_time": "2023-12-28T17:37:09.656519900Z"
    }
   }
  },
  {
   "cell_type": "code",
   "execution_count": 8,
   "outputs": [],
   "source": [
    "X_train, X_test, Y_train, Y_test = train_test_split(X, Y, test_size=0.2)"
   ],
   "metadata": {
    "collapsed": false,
    "ExecuteTime": {
     "end_time": "2023-12-28T17:37:09.720557100Z",
     "start_time": "2023-12-28T17:37:09.676480600Z"
    }
   }
  },
  {
   "cell_type": "code",
   "execution_count": 9,
   "outputs": [
    {
     "name": "stdout",
     "output_type": "stream",
     "text": [
      "(702, 13) (176, 13) (702,) (176,)\n"
     ]
    }
   ],
   "source": [
    "print(X_train.shape, X_test.shape, Y_train.shape, Y_test.shape)"
   ],
   "metadata": {
    "collapsed": false,
    "ExecuteTime": {
     "end_time": "2023-12-28T17:37:09.750669600Z",
     "start_time": "2023-12-28T17:37:09.692048300Z"
    }
   }
  },
  {
   "cell_type": "markdown",
   "source": [
    "# KNN"
   ],
   "metadata": {
    "collapsed": false
   }
  },
  {
   "cell_type": "code",
   "execution_count": 10,
   "outputs": [
    {
     "name": "stdout",
     "output_type": "stream",
     "text": [
      "Accuracy for euclidean strategy: 0.5636661362116285\n",
      "Accuracy for manhattan strategy: 0.5459521457204829\n",
      "Accuracy for minkowski strategy: 0.5636661362116285\n",
      "Accuracy for cosine strategy: 0.5509074346576974\n",
      "Accuracy for hamming strategy: 0.43109541332891593\n"
     ]
    }
   ],
   "source": [
    "for strategy in strategies:\n",
    "    knn = KNN(k=3, strategy=strategy)\n",
    "    knn.fit(X_train, Y_train)\n",
    "    print(f'Accuracy for {strategy} strategy: {knn.score(X_test, Y_test, metric=\"f1-score\")}')"
   ],
   "metadata": {
    "collapsed": false,
    "ExecuteTime": {
     "end_time": "2023-12-28T17:37:12.551369100Z",
     "start_time": "2023-12-28T17:37:09.715024100Z"
    }
   }
  },
  {
   "cell_type": "markdown",
   "source": [
    "# Decision tree"
   ],
   "metadata": {
    "collapsed": false
   }
  },
  {
   "cell_type": "code",
   "execution_count": 11,
   "outputs": [],
   "source": [
    "# tree = DecisionTree()\n",
    "# tree.fit(X_train, Y_train)\n",
    "# print(f'Accuracy for decision tree: {tree.score(X_test, Y_test)}')"
   ],
   "metadata": {
    "collapsed": false,
    "ExecuteTime": {
     "end_time": "2023-12-28T17:37:12.564947800Z",
     "start_time": "2023-12-28T17:37:12.549370Z"
    }
   }
  },
  {
   "cell_type": "markdown",
   "source": [
    "# Random forest"
   ],
   "metadata": {
    "collapsed": false,
    "ExecuteTime": {
     "end_time": "2023-12-28T15:13:03.624136700Z",
     "start_time": "2023-12-28T15:13:03.576320600Z"
    }
   },
   "outputs": [
    {
     "name": "stdout",
     "output_type": "stream",
     "text": [
      "Accuracy for decision tree: 0.8522727272727273\n"
     ]
    }
   ],
   "execution_count": 11
  },
  {
   "cell_type": "code",
   "execution_count": 12,
   "outputs": [],
   "source": [
    "# random_forest = RandomForest(n_trees=2)\n",
    "# random_forest.fit(X, Y)\n",
    "# print(f'Accuracy for random forest: {random_forest.score(X_test, Y_test)}')"
   ],
   "metadata": {
    "collapsed": false,
    "ExecuteTime": {
     "end_time": "2023-12-28T17:37:12.582555900Z",
     "start_time": "2023-12-28T17:37:12.563949Z"
    }
   }
  },
  {
   "cell_type": "code",
   "execution_count": 13,
   "outputs": [
    {
     "data": {
      "text/plain": "[KNN(strategy=euclidean_distance, k=3),\n KNN(strategy=manhattan_distance, k=3),\n KNN(strategy=minkowski_distance, k=3),\n KNN(strategy=cosine_distance, k=3),\n KNN(strategy=hamming_distance, k=3),\n DecisionTree(max_depth=None),\n RandomForest(n_trees=2, max_depth=None)]"
     },
     "execution_count": 13,
     "metadata": {},
     "output_type": "execute_result"
    }
   ],
   "source": [
    "models = [KNN(k=3, strategy=strategy) for strategy in strategies]\n",
    "models.extend([DecisionTree(), RandomForest(n_trees=2)])\n",
    "models"
   ],
   "metadata": {
    "collapsed": false,
    "ExecuteTime": {
     "end_time": "2023-12-28T17:37:12.620153700Z",
     "start_time": "2023-12-28T17:37:12.580558Z"
    }
   }
  },
  {
   "cell_type": "code",
   "execution_count": 14,
   "outputs": [],
   "source": [
    "averages = list(get_args(Average))\n",
    "averages.remove('binary')"
   ],
   "metadata": {
    "collapsed": false,
    "ExecuteTime": {
     "end_time": "2023-12-28T17:37:12.628693Z",
     "start_time": "2023-12-28T17:37:12.593982200Z"
    }
   }
  },
  {
   "cell_type": "code",
   "execution_count": 17,
   "outputs": [
    {
     "name": "stdout",
     "output_type": "stream",
     "text": [
      "\n",
      "Model: KNN\n",
      "Accuracy: 0.8239\n",
      "precision (macro average): 0.5596\n",
      "precision (micro average): 0.8239\n",
      "precision (weighted average): 0.8279\n",
      "recall (macro average): 0.5742\n",
      "recall (micro average): 0.8239\n",
      "recall (weighted average): 0.8239\n",
      "f1-score (macro average): 0.5637\n",
      "f1-score (micro average): 0.8239\n",
      "f1-score (weighted average): 0.8215\n",
      "specificity (macro average): 0.8956\n",
      "specificity (micro average): 0.9119\n",
      "specificity (weighted average): 0.8628\n",
      "\n",
      "Model: KNN\n",
      "Accuracy: 0.8068\n",
      "precision (macro average): 0.5377\n",
      "precision (micro average): 0.8068\n",
      "precision (weighted average): 0.7967\n",
      "recall (macro average): 0.5595\n",
      "recall (micro average): 0.8068\n",
      "recall (weighted average): 0.8068\n",
      "f1-score (macro average): 0.5460\n",
      "f1-score (micro average): 0.8068\n",
      "f1-score (weighted average): 0.7984\n",
      "specificity (macro average): 0.8784\n",
      "specificity (micro average): 0.9034\n",
      "specificity (weighted average): 0.8285\n",
      "\n",
      "Model: KNN\n",
      "Accuracy: 0.8239\n",
      "precision (macro average): 0.5596\n",
      "precision (micro average): 0.8239\n",
      "precision (weighted average): 0.8279\n",
      "recall (macro average): 0.5742\n",
      "recall (micro average): 0.8239\n",
      "recall (weighted average): 0.8239\n",
      "f1-score (macro average): 0.5637\n",
      "f1-score (micro average): 0.8239\n",
      "f1-score (weighted average): 0.8215\n",
      "specificity (macro average): 0.8956\n",
      "specificity (micro average): 0.9119\n",
      "specificity (weighted average): 0.8628\n",
      "\n",
      "Model: KNN\n",
      "Accuracy: 0.8068\n",
      "precision (macro average): 0.5470\n",
      "precision (micro average): 0.8068\n",
      "precision (weighted average): 0.8044\n",
      "recall (macro average): 0.5562\n",
      "recall (micro average): 0.8068\n",
      "recall (weighted average): 0.8068\n",
      "f1-score (macro average): 0.5509\n",
      "f1-score (micro average): 0.8068\n",
      "f1-score (weighted average): 0.8048\n",
      "specificity (macro average): 0.8789\n",
      "specificity (micro average): 0.9034\n",
      "specificity (weighted average): 0.8299\n",
      "\n",
      "Model: KNN\n",
      "Accuracy: 0.5568\n",
      "precision (macro average): 0.4248\n",
      "precision (micro average): 0.5568\n",
      "precision (weighted average): 0.5682\n",
      "recall (macro average): 0.4422\n",
      "recall (micro average): 0.5568\n",
      "recall (weighted average): 0.5568\n",
      "f1-score (macro average): 0.4311\n",
      "f1-score (micro average): 0.5568\n",
      "f1-score (weighted average): 0.5612\n",
      "specificity (macro average): 0.7158\n",
      "specificity (micro average): 0.7784\n",
      "specificity (weighted average): 0.5905\n",
      "\n",
      "Model: DecisionTree\n",
      "Accuracy: 0.9091\n",
      "precision (macro average): 0.7233\n",
      "precision (micro average): 0.9091\n",
      "precision (weighted average): 0.9025\n",
      "recall (macro average): 0.6878\n",
      "recall (micro average): 0.9091\n",
      "recall (weighted average): 0.9091\n",
      "f1-score (macro average): 0.7000\n",
      "f1-score (micro average): 0.9091\n",
      "f1-score (weighted average): 0.9052\n",
      "specificity (macro average): 0.9411\n",
      "specificity (micro average): 0.9545\n",
      "specificity (weighted average): 0.9141\n",
      "\n",
      "Model: RandomForest\n",
      "Accuracy: 0.9205\n",
      "precision (macro average): nan\n",
      "precision (micro average): 0.9205\n",
      "precision (weighted average): nan\n",
      "recall (macro average): 0.6309\n",
      "recall (micro average): 0.9205\n",
      "recall (weighted average): 0.9205\n",
      "f1-score (macro average): 0.6225\n",
      "f1-score (micro average): 0.9205\n",
      "f1-score (weighted average): 0.9072\n",
      "specificity (macro average): 0.9435\n",
      "specificity (micro average): 0.9602\n",
      "specificity (weighted average): 0.9100\n"
     ]
    },
    {
     "name": "stderr",
     "output_type": "stream",
     "text": [
      "C:\\Users\\chare\\PycharmProjects\\data_mining\\models\\metrics.py:18: RuntimeWarning: invalid value encountered in scalar divide\n",
      "  'precision': tp / (tp + fp),\n"
     ]
    }
   ],
   "source": [
    "for model in models:\n",
    "    model.fit(X_train, Y_train)\n",
    "    prediction = model.predict(X_test)\n",
    "\n",
    "    print(f\"\\nModel: {model.__class__.__name__}\")\n",
    "\n",
    "    for metric in get_args(Metric):\n",
    "        if metric == 'accuracy':\n",
    "            acc = model.score(X_test, Y_test, metric=metric)\n",
    "            print(f'Accuracy: {acc:.4f}')\n",
    "        else:\n",
    "            for average in averages:\n",
    "                result = metric_functions[metric](Y_test, prediction, average=average)\n",
    "                print(f'{metric} ({average} average): {result:.4f}')\n"
   ],
   "metadata": {
    "collapsed": false,
    "ExecuteTime": {
     "end_time": "2023-12-28T17:41:46.730812500Z",
     "start_time": "2023-12-28T17:41:23.682782100Z"
    }
   }
  }
 ],
 "metadata": {
  "kernelspec": {
   "display_name": "Python 3",
   "language": "python",
   "name": "python3"
  },
  "language_info": {
   "codemirror_mode": {
    "name": "ipython",
    "version": 2
   },
   "file_extension": ".py",
   "mimetype": "text/x-python",
   "name": "python",
   "nbconvert_exporter": "python",
   "pygments_lexer": "ipython2",
   "version": "2.7.6"
  }
 },
 "nbformat": 4,
 "nbformat_minor": 0
}
